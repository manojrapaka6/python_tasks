{
 "cells": [
  {
   "cell_type": "markdown",
   "id": "310c9802",
   "metadata": {},
   "source": [
    "## 1) Write a Python program to loop through all the elements in a list\n",
    "Ex:\n",
    "Input: [1,2,3,4,5,6]\n",
    "Output:\n",
    "1\n",
    "2\n",
    "3\n",
    "4\n",
    "5\n",
    "6"
   ]
  },
  {
   "cell_type": "code",
   "execution_count": 4,
   "id": "8b6a5b59",
   "metadata": {},
   "outputs": [
    {
     "name": "stdout",
     "output_type": "stream",
     "text": [
      "Enter your input:- 1234679\n",
      "1 2 3 4 6 7 9 "
     ]
    }
   ],
   "source": [
    "a=list((input('Enter your input:- ')))\n",
    "for a1 in a:\n",
    "    print(a1,end=' ')"
   ]
  },
  {
   "cell_type": "markdown",
   "id": "c7e04bd3",
   "metadata": {},
   "source": [
    "## 2) Write a Python program to remove all the odd index value from a list and only even index elements should remain\n",
    "Ex:\n",
    "Input: [1,2,3,4,5,6,7,”a”]\n",
    "Output: [1,3,5,7]"
   ]
  },
  {
   "cell_type": "code",
   "execution_count": 7,
   "id": "28e80836",
   "metadata": {},
   "outputs": [
    {
     "name": "stdout",
     "output_type": "stream",
     "text": [
      "Enter your input:- 123456789\n",
      "1 3 5 7 9 "
     ]
    }
   ],
   "source": [
    "b=input('Enter your input:- ')\n",
    "for b1 in range(1,len(b)+1,2):\n",
    "    print(b1,end=' ')"
   ]
  },
  {
   "cell_type": "markdown",
   "id": "7f128e10",
   "metadata": {},
   "source": [
    "## 3) Write a Python program to sum and multiply all the items in a list\n",
    "Ex:\n",
    "Input: [1,2,3,4]\n",
    "Output: sum: -10\n",
    "Product: -24"
   ]
  },
  {
   "cell_type": "code",
   "execution_count": 12,
   "id": "6a947ae0",
   "metadata": {},
   "outputs": [
    {
     "name": "stdout",
     "output_type": "stream",
     "text": [
      "Enter input52\n",
      "sum:- 7\n",
      "product:- 10\n"
     ]
    }
   ],
   "source": [
    "c=input('Enter input')\n",
    "sum=0\n",
    "product=1\n",
    "for c1 in c:\n",
    "    sum=sum+int(c1)\n",
    "    product=product*int(c1)\n",
    "print('sum:-',sum)\n",
    "print('product:-',product)"
   ]
  },
  {
   "cell_type": "markdown",
   "id": "caaa8ffc",
   "metadata": {},
   "source": [
    "## 4) Write a Python program to get the maximum and minimum numbers from a list\n",
    "Ex:\n",
    "Input: [8,4,11,7,90] Output: max: - 90\n",
    "Min: - 4"
   ]
  },
  {
   "cell_type": "code",
   "execution_count": 8,
   "id": "1605580b",
   "metadata": {},
   "outputs": [
    {
     "name": "stdout",
     "output_type": "stream",
     "text": [
      "Enter the length of the list:- 5\n",
      "5\n",
      "Enter your input:- 10\n",
      "[10]\n",
      "Enter your input:- 99\n",
      "[10, 99]\n",
      "Enter your input:- 65\n",
      "[10, 99, 65]\n",
      "Enter your input:- 47\n",
      "[10, 99, 65, 47]\n",
      "Enter your input:- 63\n",
      "[10, 99, 65, 47, 63]\n",
      "Minimum is:-  10\n",
      "Maximum is:-  99\n"
     ]
    }
   ],
   "source": [
    "length=int(input('Enter the length of the list:- '))\n",
    "print(length)\n",
    "emptylist=[]\n",
    "if True:\n",
    "    while len(emptylist)<length:\n",
    "        inp=int(input('Enter your input:- '))\n",
    "        emptylist.append(inp)\n",
    "        print(emptylist)\n",
    "emptylist.sort()\n",
    "print('Minimum is:- ',emptylist[0])\n",
    "print('Maximum is:- ',emptylist[-1])"
   ]
  },
  {
   "cell_type": "markdown",
   "id": "c0985a13",
   "metadata": {},
   "source": [
    "## 5) Write a Python program to print a specified list after removing the 0th, 4th and 5th elements.\n",
    "Ex: Input: ['Red', 'Green', 'White', 'Black', 'Pink', 'Yellow'] Output: ['Green', 'White', 'Black']"
   ]
  },
  {
   "cell_type": "code",
   "execution_count": 14,
   "id": "6aef24e2",
   "metadata": {},
   "outputs": [
    {
     "name": "stdout",
     "output_type": "stream",
     "text": [
      "Enter your data:- red,green,white,black,pink,yellow\n",
      "['green', 'white', 'black']\n"
     ]
    }
   ],
   "source": [
    "data=input('Enter your data:- ').split(',')\n",
    "new=[]\n",
    "for d in data:\n",
    "    if d==data[0] or d==data[4] or d==data[5]:\n",
    "        continue\n",
    "    else:\n",
    "        new.append(d)\n",
    "print(new)"
   ]
  },
  {
   "cell_type": "markdown",
   "id": "14a20210",
   "metadata": {},
   "source": [
    "## 6) Write a Python program where you will ask the users to insert elements in a list"
   ]
  },
  {
   "cell_type": "code",
   "execution_count": 16,
   "id": "492670cc",
   "metadata": {},
   "outputs": [
    {
     "name": "stdout",
     "output_type": "stream",
     "text": [
      "Enter input:- my name is hithesh\n",
      "['my name is hithesh']\n"
     ]
    }
   ],
   "source": [
    "give=input('Enter input:- ').split(' ')\n",
    "lst=[]\n",
    "for text in give:\n",
    "    lst.append(text)\n",
    "print(lst)"
   ]
  },
  {
   "cell_type": "markdown",
   "id": "547571ca",
   "metadata": {},
   "source": [
    "## 7) Write a Python program to convert a list of characters into a string"
   ]
  },
  {
   "cell_type": "code",
   "execution_count": 22,
   "id": "654d6f35",
   "metadata": {},
   "outputs": [
    {
     "data": {
      "text/plain": [
       "'a,b,c,d,hello,hithesh,6,11,2001'"
      ]
     },
     "execution_count": 22,
     "metadata": {},
     "output_type": "execute_result"
    }
   ],
   "source": [
    "var=['a,b,c,d,hello,hithesh,6,11,2001']\n",
    "string=''\n",
    "for i in var:\n",
    "    string=string+i\n",
    "string"
   ]
  },
  {
   "cell_type": "markdown",
   "id": "26cd9738",
   "metadata": {},
   "source": [
    "## 8) Write a Python program to compute average of given lists."
   ]
  },
  {
   "cell_type": "code",
   "execution_count": 40,
   "id": "29541323",
   "metadata": {},
   "outputs": [
    {
     "name": "stdout",
     "output_type": "stream",
     "text": [
      "Enter your data:- 1 2 3 4 5\n",
      "\n",
      "Sum of the given list is:-  15\n",
      "Average of the given list is:-  7.5\n"
     ]
    }
   ],
   "source": [
    "num=input('Enter your data:- ').split()\n",
    "sum=0\n",
    "for k in num:\n",
    "    sum=sum+int(k)\n",
    "print('\\nSum of the given list is:- ',sum)\n",
    "print('Average of the given list is:- ',sum/2)"
   ]
  },
  {
   "cell_type": "markdown",
   "id": "568a0acb",
   "metadata": {},
   "source": [
    "## 9) Write a Python program to count integer in a given mixed list.\n",
    "Ex:\n",
    "Input: [10, “a”,2,3,5.5,1.34,” Abc”,” rt”] Output: Number of integers in the list: 5"
   ]
  },
  {
   "cell_type": "code",
   "execution_count": 51,
   "id": "da246ed5",
   "metadata": {},
   "outputs": [
    {
     "name": "stdout",
     "output_type": "stream",
     "text": [
      "Enter data:- hello,dfvdf,vdvd,5,2,5,2,5,5\n",
      "In given list the integer count is:-  6\n"
     ]
    }
   ],
   "source": [
    "count=input('Enter data:- ').split(',')\n",
    "inte=[]\n",
    "for s in count:\n",
    "    if s.isdigit():\n",
    "        inte.append(s)\n",
    "print('In given list the integer count is:- ',len(inte))"
   ]
  },
  {
   "cell_type": "markdown",
   "id": "0c47aa46",
   "metadata": {},
   "source": [
    "## 10) Write a Python program to reverse the list"
   ]
  },
  {
   "cell_type": "code",
   "execution_count": 65,
   "id": "2464a335",
   "metadata": {},
   "outputs": [
    {
     "name": "stdout",
     "output_type": "stream",
     "text": [
      "Enter the data:- ias si eman ym\n",
      "my name is sai\n"
     ]
    }
   ],
   "source": [
    "def Reverse(lst):\n",
    "   new_lst = lst[::-1]\n",
    "   return new_lst\n",
    " \n",
    " \n",
    "lst = input('Enter the data:- ')\n",
    "print(Reverse(lst))"
   ]
  },
  {
   "cell_type": "markdown",
   "id": "c2621c08",
   "metadata": {},
   "source": [
    "## 11) Write a Python program convert a given string to a tuple \n",
    "Ex: Input: “python1.2”\n",
    "Output: (“p”,” y”,”t”,”h”,” o”,” n”,”1”,”.”,”2”)"
   ]
  },
  {
   "cell_type": "code",
   "execution_count": 70,
   "id": "30b750a9",
   "metadata": {},
   "outputs": [
    {
     "name": "stdout",
     "output_type": "stream",
     "text": [
      "insert data:- welcome to the game\n",
      "('w', 'e', 'l', 'c', 'o', 'm', 'e', ' ', 't', 'o', ' ', 't', 'h', 'e', ' ', 'g', 'a', 'm', 'e') "
     ]
    }
   ],
   "source": [
    "string=input('insert data:- ')\n",
    "tup=tuple(string)\n",
    "print(tup,end=' ')"
   ]
  },
  {
   "cell_type": "code",
   "execution_count": null,
   "id": "0f5d5a5f",
   "metadata": {},
   "outputs": [],
   "source": []
  }
 ],
 "metadata": {
  "kernelspec": {
   "display_name": "Python 3 (ipykernel)",
   "language": "python",
   "name": "python3"
  },
  "language_info": {
   "codemirror_mode": {
    "name": "ipython",
    "version": 3
   },
   "file_extension": ".py",
   "mimetype": "text/x-python",
   "name": "python",
   "nbconvert_exporter": "python",
   "pygments_lexer": "ipython3",
   "version": "3.11.3"
  }
 },
 "nbformat": 4,
 "nbformat_minor": 5
}
