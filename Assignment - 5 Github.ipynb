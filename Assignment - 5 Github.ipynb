{
 "cells": [
  {
   "cell_type": "markdown",
   "id": "f377f7f1",
   "metadata": {},
   "source": [
    "## 1) Given a list of numbers, write a python program that returns a new list which Has all duplicate elements removed. And is sorted in an increasing order"
   ]
  },
  {
   "cell_type": "code",
   "execution_count": 22,
   "id": "c051cb5b",
   "metadata": {},
   "outputs": [
    {
     "name": "stdout",
     "output_type": "stream",
     "text": [
      "Enter data:- 1,2,4,2,5,1,4,21\n",
      "\n",
      "Elements after duplictes removed:- [1, 2, 4, 5, 21] \n",
      "\n",
      "Sorted list of numbers:-  [1, 2, 4, 5, 21]\n"
     ]
    }
   ],
   "source": [
    "data=input('Enter data:- ').split(',')\n",
    "new=[]\n",
    "final=[]\n",
    "for i in data:\n",
    "    if i.isdigit():\n",
    "        new.append(int(i))\n",
    "for k in new:\n",
    "    if k not in final:\n",
    "        final.append(k)\n",
    "print('\\nElements after duplictes removed:-',final,'\\n')\n",
    "print('Sorted list of numbers:- ',sorted(final))"
   ]
  },
  {
   "cell_type": "markdown",
   "id": "c666ea6e",
   "metadata": {},
   "source": [
    "## 2) Write a Python program where you will iterate over both keys and values in dictionaries"
   ]
  },
  {
   "cell_type": "code",
   "execution_count": 26,
   "id": "4c883c51",
   "metadata": {},
   "outputs": [
    {
     "name": "stdout",
     "output_type": "stream",
     "text": [
      "Enter the count of products:- 2\n",
      "Enter products names:- soap\n",
      "Enter the price of the product:- 22\n",
      "Enter products names:- shampoo\n",
      "Enter the price of the product:- 55\n",
      "\n",
      " dict_items([('soap', 22), ('shampoo', 55)])\n"
     ]
    }
   ],
   "source": [
    "x=int(input('Enter the count of products:- '))\n",
    "dic={}\n",
    "for a in range(x):\n",
    "    products=input('Enter products names:- ')\n",
    "    prices=int(input('Enter the price of the product:- '))\n",
    "    dic[products]=prices\n",
    "print('\\n',dic.items())"
   ]
  },
  {
   "cell_type": "markdown",
   "id": "77ec445d",
   "metadata": {},
   "source": [
    "## 3) Write a Python program that takes a dictionary of student names and returns a list of student names in alphabetical order"
   ]
  },
  {
   "cell_type": "code",
   "execution_count": 29,
   "id": "9820de5a",
   "metadata": {},
   "outputs": [
    {
     "name": "stdout",
     "output_type": "stream",
     "text": [
      "Enter the count of students:- 3\n",
      "Enter student names:- hari\n",
      "Enter the marks of the student:- 75\n",
      "Enter student names:- vishnu\n",
      "Enter the marks of the student:- 66\n",
      "Enter student names:- surya\n",
      "Enter the marks of the student:- 62\n",
      "\n",
      " ['hari', 'surya', 'vishnu']\n"
     ]
    }
   ],
   "source": [
    "y=int(input('Enter the count of students:- '))\n",
    "dicto={}\n",
    "for b in range(y):\n",
    "    student_name=input('Enter student names:- ')\n",
    "    marks=int(input('Enter the marks of the student:- '))\n",
    "    dicto[student_name]=marks\n",
    "print('\\n',sorted(dicto.keys()))"
   ]
  },
  {
   "cell_type": "markdown",
   "id": "79e7ea83",
   "metadata": {},
   "source": [
    "##  4) Write a Python which returns a new list of Booleans, from a given number. Iterating through the number one digit at a time, append True if the digit is 1 and False if it is 0.\n",
    "Ex:\n",
    "Input: “01001”\n",
    "Output: [“False”, “True”, “False”,” False”,” True”]"
   ]
  },
  {
   "cell_type": "code",
   "execution_count": 35,
   "id": "8429cbf1",
   "metadata": {},
   "outputs": [
    {
     "name": "stdout",
     "output_type": "stream",
     "text": [
      "Enter the numeric data:- 2000155550\n",
      "[True, False, False, False, True, True, True, True, True, False]\n"
     ]
    }
   ],
   "source": [
    "data=input('Enter the numeric data:- ')\n",
    "new_data=[]\n",
    "for c in data:\n",
    "    if c.isdigit():\n",
    "        new_data.append(bool(int(c)))\n",
    "print(new_data)"
   ]
  },
  {
   "cell_type": "markdown",
   "id": "a60addec",
   "metadata": {},
   "source": [
    "## 5) Write a Python program where you will return a dictionary where the keys will be the character and the values will be the occurrence of the character in the string, and it should for any string inputs (dynamic)\n",
    "Ex:\n",
    "Input: “my name is ame”\n",
    "Output: {“m”:3,” y”:1,” n”:1,” a”:2,” e”:2,” i”:1,” s”:1}"
   ]
  },
  {
   "cell_type": "code",
   "execution_count": 7,
   "id": "b5a8e8fe",
   "metadata": {},
   "outputs": [
    {
     "name": "stdout",
     "output_type": "stream",
     "text": [
      "Enter your input:- hello everyone\n",
      "{'h': 1, 'e': 4, 'l': 2, 'o': 2, 'v': 1, 'r': 1, 'y': 1, 'n': 1}\n"
     ]
    }
   ],
   "source": [
    "d=input('Enter your input:- ')\n",
    "d1=d.lower()\n",
    "di={}\n",
    "for e in d1:\n",
    "    if e!=' ':\n",
    "        if e not in di:\n",
    "            di[e]=d1.count(e)\n",
    "print(di)"
   ]
  },
  {
   "cell_type": "markdown",
   "id": "c327f063",
   "metadata": {},
   "source": [
    "## 6) Given a dictionary containing the names and ages of a group of people, return the name of the oldest person\n",
    "Ex: Input: {\"Tmma\": 41, \"Ackes\": 45, \"myna\": 15, \"Benthon\": 29} Output: “Ackes”"
   ]
  },
  {
   "cell_type": "code",
   "execution_count": 28,
   "id": "02e51f65",
   "metadata": {},
   "outputs": [
    {
     "name": "stdout",
     "output_type": "stream",
     "text": [
      "Enter the count of names:- 5\n",
      "Enter the name:- hari\n",
      "Enter the age for the above person:- 30\n",
      "Enter the name:- vishal\n",
      "Enter the age for the above person:- 45\n",
      "Enter the name:- gopi\n",
      "Enter the age for the above person:- 63\n",
      "Enter the name:- raju\n",
      "Enter the age for the above person:- 18\n",
      "Enter the name:- surya\n",
      "Enter the age for the above person:- 25\n",
      "{'hari': 30, 'vishal': 45, 'gopi': 63, 'raju': 18, 'surya': 25} \n",
      "\n",
      "Oldest person in the group is:-  gopi\n"
     ]
    }
   ],
   "source": [
    "names_count=int(input('Enter the count of names:- '))\n",
    "dic={}\n",
    "for f in range(names_count):\n",
    "    names=input('Enter the name:- ')\n",
    "    age=int(input('Enter the age for the above person:- '))\n",
    "    dic[names]=age\n",
    "ages=dic.values()\n",
    "ages_sorted=sorted(ages)\n",
    "for g in dic:\n",
    "    if dic[g]==ages_sorted[-1]:\n",
    "        print(dic,'\\n')\n",
    "        print('Oldest person in the group is:- ',g)"
   ]
  },
  {
   "cell_type": "markdown",
   "id": "4c81287c",
   "metadata": {},
   "source": [
    "## 7) Write a Python program to create a Rock, Paper, Scissor game, use two inputs for two\n",
    "## players    \n",
    "Conditions: -Rock beats Scissors, Scissors beats Paper, Paper beats Rock"
   ]
  },
  {
   "cell_type": "code",
   "execution_count": null,
   "id": "0f4810d3",
   "metadata": {},
   "outputs": [],
   "source": [
    "enter=input('Enter s to start the Rock,Paper,Scissor game:- ').lower()\n",
    "if enter=='s':\n",
    "    while True:\n",
    "        player1=input('Enter your weapon:- ')\n",
    "        player2=input('Enter your weapon:- ')\n",
    "        if (player1=='rock' and player2=='scissor') or (player1=='scissor' and player2=='rock'):\n",
    "            print('Rock beats Scissors')\n",
    "            break\n",
    "        elif (player1=='scissor' and player2=='paper') or (player1=='paper' and player2=='scissor'):\n",
    "            print('Scissor beats Paper')\n",
    "            break\n",
    "        elif (player1=='rock' and player2=='paper') or (player1=='paper' and player2=='rock'):\n",
    "            print('Paper beats Rock')\n",
    "            break\n",
    "        else:\n",
    "            print('\\nEnter the correct weapon\\n')\n",
    "else:\n",
    "    print('entered wrong one')"
   ]
  },
  {
   "cell_type": "markdown",
   "id": "b284f433",
   "metadata": {},
   "source": [
    "## 8) Create a program that returns a list of items that you can afford in the store with the money you have in your wallet. Create a dictionary with items as key and price as values\n",
    "Ex:\n",
    "Input: {“water bottles”: “20”,” chips”:10,” Iphone”;49000“,” towel”:90,” pens”:58,” cake”;400} Your wallet balance: -50\n",
    "Output: [“water bottles”, “chips”]"
   ]
  },
  {
   "cell_type": "code",
   "execution_count": 15,
   "id": "988f7109",
   "metadata": {},
   "outputs": [
    {
     "name": "stdout",
     "output_type": "stream",
     "text": [
      "How much money do you have:- 35\n",
      "You can afford:-  ['cakes', 'puff', 'chips']\n"
     ]
    }
   ],
   "source": [
    "amount=int(input('How much money do you have:- '))\n",
    "items={'cakes':30,'puff':20,'chips':20,'noodles':50,'pizza':100,'chocolate':50,'ice-cream':60}\n",
    "can_buy=[]\n",
    "for item,price in items.items():\n",
    "    if amount >= price:\n",
    "        can_buy.append(item)\n",
    "print('You can afford:- ',can_buy)"
   ]
  },
  {
   "cell_type": "markdown",
   "id": "93f373a9",
   "metadata": {},
   "source": [
    "## 9) Write a Python program to create a union of sets"
   ]
  },
  {
   "cell_type": "code",
   "execution_count": 17,
   "id": "07539d51",
   "metadata": {},
   "outputs": [
    {
     "data": {
      "text/plain": [
       "{5, 6, 11, 22, 24, 26, 44, 49, 55, 77, 87, 99, 558, 685}"
      ]
     },
     "execution_count": 17,
     "metadata": {},
     "output_type": "execute_result"
    }
   ],
   "source": [
    "set1={77,558,99,55,22,44,11,22}\n",
    "set2={55,685,49,24,6,26,87,5,22,11,55}\n",
    "set1 | set2"
   ]
  },
  {
   "cell_type": "markdown",
   "id": "db236f50",
   "metadata": {},
   "source": [
    "## 10) Write a Python program to check if a given value is present in a set or not (Dynamic)"
   ]
  },
  {
   "cell_type": "code",
   "execution_count": 24,
   "id": "85ec7379",
   "metadata": {},
   "outputs": [
    {
     "name": "stdout",
     "output_type": "stream",
     "text": [
      "Enter Number22\n",
      "number is there\n"
     ]
    }
   ],
   "source": [
    "check=int(input('Enter Number'))\n",
    "s={5, 6, 11, 22, 24, 26, 44, 49, 55, 77, 87, 99, 558, 685}\n",
    "if check in s:\n",
    "    print('number is there')\n",
    "else:\n",
    "    print('number is not there')"
   ]
  },
  {
   "cell_type": "markdown",
   "id": "8f77a2cf",
   "metadata": {},
   "source": [
    "## 11) Write a Python program to find the occurrences of 3 most common words in a given text. And make it as a dictionaries Ex: Input:\n",
    "” Cat dog dog cat horse dog dog mouse horse dog mouse tiger lion tiger cat mouse snail”\n",
    "Output: (“dog”:5,”cat”:3,” mouse”;3)"
   ]
  },
  {
   "cell_type": "code",
   "execution_count": 16,
   "id": "1d97dddd",
   "metadata": {},
   "outputs": [
    {
     "name": "stdout",
     "output_type": "stream",
     "text": [
      "Enter your text:- Cat dog dog cat horse dog dog mouse horse dog mouse tiger lion tiger cat mouse snail\n",
      "['Cat', 'dog', 'dog', 'cat', 'horse', 'dog', 'dog', 'mouse', 'horse', 'dog', 'mouse', 'tiger', 'lion', 'tiger', 'cat', 'mouse', 'snail']\n",
      "{'Cat': 1, 'dog': 5, 'cat': 2, 'horse': 2, 'mouse': 3, 'tiger': 2, 'lion': 1, 'snail': 1}\n"
     ]
    }
   ],
   "source": [
    "text=input('Enter your text:- ')\n",
    "text_split=text.split(' ')\n",
    "times={}\n",
    "for p in text_split:\n",
    "    p1=text_split.count(p)\n",
    "    times[p]=p1\n",
    "print(text_split)\n",
    "print(times)\n",
    "dic=sorted(times.values())"
   ]
  },
  {
   "cell_type": "markdown",
   "id": "3e5481e7",
   "metadata": {},
   "source": [
    "## 12) Write a Python program that accepts name of given subject and mark, and make subjects as keys in dictionaries and marks as values and print the final dictionary with subjects and marks"
   ]
  },
  {
   "cell_type": "code",
   "execution_count": 17,
   "id": "54a9ded3",
   "metadata": {},
   "outputs": [
    {
     "name": "stdout",
     "output_type": "stream",
     "text": [
      "Enter the count of subjects:- 6\n",
      "Enter subjects names:- telugu\n",
      "Enter the marks for the subject:- 55\n",
      "Enter subjects names:- hindi\n",
      "Enter the marks for the subject:- 66\n",
      "Enter subjects names:- english\n",
      "Enter the marks for the subject:- 85\n",
      "Enter subjects names:- maths\n",
      "Enter the marks for the subject:- 90\n",
      "Enter subjects names:- science\n",
      "Enter the marks for the subject:- 80\n",
      "Enter subjects names:- social\n",
      "Enter the marks for the subject:- 68\n",
      "\n",
      " dict_items([('telugu', 55), ('hindi', 66), ('english', 85), ('maths', 90), ('science', 80), ('social', 68)])\n"
     ]
    }
   ],
   "source": [
    "x=int(input('Enter the count of subjects:- '))\n",
    "dic={}\n",
    "for a in range(x):\n",
    "    subjects=input('Enter subjects names:- ')\n",
    "    marks=int(input('Enter the marks for the subject:- '))\n",
    "    dic[subjects]=marks\n",
    "print('\\n',dic.items())"
   ]
  },
  {
   "cell_type": "code",
   "execution_count": null,
   "id": "4e71cb8b",
   "metadata": {},
   "outputs": [],
   "source": []
  }
 ],
 "metadata": {
  "kernelspec": {
   "display_name": "Python 3 (ipykernel)",
   "language": "python",
   "name": "python3"
  },
  "language_info": {
   "codemirror_mode": {
    "name": "ipython",
    "version": 3
   },
   "file_extension": ".py",
   "mimetype": "text/x-python",
   "name": "python",
   "nbconvert_exporter": "python",
   "pygments_lexer": "ipython3",
   "version": "3.11.3"
  }
 },
 "nbformat": 4,
 "nbformat_minor": 5
}
