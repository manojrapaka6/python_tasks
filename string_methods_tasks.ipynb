{
 "cells": [
  {
   "cell_type": "code",
   "execution_count": 1,
   "id": "e188e36c",
   "metadata": {},
   "outputs": [
    {
     "data": {
      "text/plain": [
       "'innomatics'"
      ]
     },
     "execution_count": 1,
     "metadata": {},
     "output_type": "execute_result"
    }
   ],
   "source": [
    "#Write a python program to convert a string to lower case\n",
    "str1 = \"INNOMATICS\"\n",
    "str1.lower()"
   ]
  },
  {
   "cell_type": "code",
   "execution_count": 5,
   "id": "86c87439",
   "metadata": {},
   "outputs": [],
   "source": [
    "#Write a python program to convert only odd indexed characters to lower case\n",
    "# Ex:- Input: PYTHON    Output: PyThOn\n"
   ]
  },
  {
   "cell_type": "code",
   "execution_count": 6,
   "id": "d1f52673",
   "metadata": {},
   "outputs": [
    {
     "data": {
      "text/plain": [
       "'PyThOn'"
      ]
     },
     "execution_count": 6,
     "metadata": {},
     "output_type": "execute_result"
    }
   ],
   "source": [
    "b='PYTHON'\n",
    "b[0].upper()+b[1].lower()+b[2].upper()+b[3].lower()+b[4].upper()+b[5].lower()"
   ]
  },
  {
   "cell_type": "code",
   "execution_count": 7,
   "id": "bc3d56b0",
   "metadata": {},
   "outputs": [],
   "source": [
    "# 3) Write a python program to convert only even indexed characters to lower case\n",
    "# Ex:- Input: PYTHON  Output: pYtHoN"
   ]
  },
  {
   "cell_type": "code",
   "execution_count": 8,
   "id": "b7b368fa",
   "metadata": {},
   "outputs": [
    {
     "data": {
      "text/plain": [
       "'pYtHoN'"
      ]
     },
     "execution_count": 8,
     "metadata": {},
     "output_type": "execute_result"
    }
   ],
   "source": [
    "b='PYTHON'\n",
    "b[0].lower()+b[1].upper()+b[2].lower()+b[3].upper()+b[4].lower()+b[5].upper()"
   ]
  },
  {
   "cell_type": "code",
   "execution_count": 9,
   "id": "b789f560",
   "metadata": {},
   "outputs": [],
   "source": [
    "# 4) Write a python program to convert only odd indexed characters to upper case\n",
    "#Ex:- Input: python     Output: pYtHoN"
   ]
  },
  {
   "cell_type": "code",
   "execution_count": 10,
   "id": "119cec39",
   "metadata": {},
   "outputs": [
    {
     "data": {
      "text/plain": [
       "'pYtHoN'"
      ]
     },
     "execution_count": 10,
     "metadata": {},
     "output_type": "execute_result"
    }
   ],
   "source": [
    "b='PYTHON'\n",
    "b[0].lower()+b[1].upper()+b[2].lower()+b[3].upper()+b[4].lower()+b[5].upper()"
   ]
  },
  {
   "cell_type": "code",
   "execution_count": 11,
   "id": "4bee48e7",
   "metadata": {},
   "outputs": [],
   "source": [
    "# 5) Write a python program to convert only even indexed characters to upper case\n",
    "#Ex:- Input: python  Output: - PyThOn"
   ]
  },
  {
   "cell_type": "code",
   "execution_count": 12,
   "id": "78a5209e",
   "metadata": {},
   "outputs": [
    {
     "data": {
      "text/plain": [
       "'PyThOn'"
      ]
     },
     "execution_count": 12,
     "metadata": {},
     "output_type": "execute_result"
    }
   ],
   "source": [
    "b='PYTHON'\n",
    "b[0].upper()+b[1].lower()+b[2].upper()+b[3].lower()+b[4].upper()+b[5].lower()"
   ]
  },
  {
   "cell_type": "code",
   "execution_count": 13,
   "id": "3def9114",
   "metadata": {},
   "outputs": [],
   "source": [
    "# 6) Write a python program where you have different variable which contains your name ,sex,age, phone no ,fathers name and \n",
    "#    mothers name.And by using this variable create a variable named bio-data where you will use all this variable\n",
    "#    Ex:-print(bio-data)\n",
    "#    Output:- My name is …., My age is ….,My phone-no is ….,my fathers name is …,and my mothers name is……\n"
   ]
  },
  {
   "cell_type": "code",
   "execution_count": 15,
   "id": "15ebc0ce",
   "metadata": {},
   "outputs": [
    {
     "name": "stdout",
     "output_type": "stream",
     "text": [
      "Enter Your Name manoj\n",
      "Enter Your age 25\n",
      "Enter Your Gender male\n",
      "Enter your Phone Number 123456789\n",
      "Enter Your Father Name nagesh\n",
      "Enter Your Mother Name j\n",
      "My Name is manoj, My age is 25, My Gender is male, My Phone Number is 123456789, My Father Name is nagesh, My Mother Name is j\n"
     ]
    }
   ],
   "source": [
    "f1=input('Enter Your Name ')\n",
    "f2=int(input('Enter Your age '))\n",
    "f3=input('Enter Your Gender ')\n",
    "f4=int(input('Enter your Phone Number '))\n",
    "f5=input('Enter Your Father Name ')\n",
    "f6=input('Enter Your Mother Name ')\n",
    "biodata=('My Name is {}, My age is {}, My Gender is {}, My Phone Number is {}, My Father Name is {}, My Mother Name is {}'.format(f1,f2,f3,f4,f5,f6))\n",
    "print(biodata)"
   ]
  },
  {
   "cell_type": "code",
   "execution_count": 16,
   "id": "1cb26ed3",
   "metadata": {},
   "outputs": [],
   "source": [
    "# 7) Write a python program to count how many times “@” occurred"
   ]
  },
  {
   "cell_type": "code",
   "execution_count": 19,
   "id": "d679de32",
   "metadata": {},
   "outputs": [
    {
     "data": {
      "text/plain": [
       "2"
      ]
     },
     "execution_count": 19,
     "metadata": {},
     "output_type": "execute_result"
    }
   ],
   "source": [
    "str2 = \"njhbvyv@bbnl@\"\n",
    "str2.count(\"@\")"
   ]
  },
  {
   "cell_type": "code",
   "execution_count": 20,
   "id": "41954813",
   "metadata": {},
   "outputs": [],
   "source": [
    "# 8) Write a python program to get only names from the string \n",
    "# Input: “name1.@gmail.com,name2.@gmail.com,name 3.@gmail.com” Output: name1,name2,name3\n"
   ]
  },
  {
   "cell_type": "code",
   "execution_count": 21,
   "id": "c89ccb34",
   "metadata": {},
   "outputs": [],
   "source": [
    "input1 = (\"name1.@gmail.com\",\"name2.@gmail.com\",\"name 3.@gmail.com”\")\n"
   ]
  },
  {
   "cell_type": "code",
   "execution_count": 22,
   "id": "4611590d",
   "metadata": {},
   "outputs": [
    {
     "name": "stdout",
     "output_type": "stream",
     "text": [
      "name1,name2,name 3\n"
     ]
    }
   ],
   "source": [
    "# Input string\n",
    "input_string = \"name1.@gmail.com,name2.@gmail.com,name 3.@gmail.com\"\n",
    "\n",
    "# Split the input string by commas\n",
    "parts = input_string.split(',')\n",
    "\n",
    "# Replace '.@gmail.com' with an empty string\n",
    "parts[0] = parts[0].replace('.@gmail.com', '')\n",
    "parts[1] = parts[1].replace('.@gmail.com', '')\n",
    "parts[2] = parts[2].replace('.@gmail.com', '')\n",
    "\n",
    "# Join the parts back with commas\n",
    "output = ','.join(parts)\n",
    "\n",
    "# Print the output\n",
    "print(output)\n"
   ]
  },
  {
   "cell_type": "code",
   "execution_count": 31,
   "id": "dff088ad",
   "metadata": {},
   "outputs": [
    {
     "name": "stdout",
     "output_type": "stream",
     "text": [
      "name1,name2,name 3\n"
     ]
    }
   ],
   "source": [
    "# Input string # doubt\n",
    "input_string = \"name1.@gmail.com,name2.@gmail.com,name 3.@gmail.com\"\n",
    "\n",
    "# Split the input string by commas\n",
    "parts = input_string.split(',')\n",
    "\n",
    "# Manually slice to remove '.@gmail.com' from each part\n",
    "parts[0] = parts[0][:parts[0].find('.@gmail.com')]\n",
    "parts[1] = parts[1][:parts[1].find('.@gmail.com')]\n",
    "parts[2] = parts[2][:parts[2].find('.@gmail.com')]\n",
    "\n",
    "# Join the parts back with commas\n",
    "output = ','.join(parts)\n",
    "\n",
    "# Print the output\n",
    "print(output)\n"
   ]
  },
  {
   "cell_type": "code",
   "execution_count": 32,
   "id": "820cded1",
   "metadata": {},
   "outputs": [
    {
     "name": "stdout",
     "output_type": "stream",
     "text": [
      "name1,name2,name 3\n"
     ]
    }
   ],
   "source": [
    "# Input string\n",
    "input_string = \"name1.@gmail.com,name2.@gmail.com,name 3.@gmail.com\"\n",
    "\n",
    "# Replace each '.@gmail.com' with an empty string\n",
    "output = input_string.replace('.@gmail.com', '').replace('.@gmail.com', '').replace('.@gmail.com', '')\n",
    "\n",
    "# Print the output\n",
    "print(output)"
   ]
  },
  {
   "cell_type": "code",
   "execution_count": 34,
   "id": "d77c6ecf",
   "metadata": {},
   "outputs": [
    {
     "name": "stdout",
     "output_type": "stream",
     "text": [
      "name1.,name2.,name 3.\n"
     ]
    }
   ],
   "source": [
    "# Input string\n",
    "input_string = \"name1.@gmail.com,name2.@gmail.com,name 3.@gmail.com\"\n",
    "\n",
    "# Split the input string by commas\n",
    "parts = input_string.split(',')\n",
    "# Manually concatenate the desired parts\n",
    "output = parts[0][:6] + ',' + parts[1][:6] + ',' + parts[2][:7]\n",
    "\n",
    "print(output)"
   ]
  },
  {
   "cell_type": "code",
   "execution_count": 50,
   "id": "ba522a5b",
   "metadata": {},
   "outputs": [
    {
     "name": "stdout",
     "output_type": "stream",
     "text": [
      "name1,name2,name 3\n"
     ]
    }
   ],
   "source": [
    "# Input string\n",
    "input_string = \"name1.@gmail.com,name2.@gmail.com,name 3.@gmail.com\"\n",
    "\n",
    "# Manually slice and concatenate the string parts\n",
    "output = input_string[:5] + ',' + input_string[17:22]  + input_string[33:40]\n",
    "\n",
    "# Print the output\n",
    "print(output)\n"
   ]
  },
  {
   "cell_type": "code",
   "execution_count": 51,
   "id": "10466595",
   "metadata": {},
   "outputs": [],
   "source": [
    "#9) Given a string of odd length greater that 9, return a new string made of the middle three characters of a given String\n",
    "#    Ex:- Input: “mynameissan   Output: “mei”\n"
   ]
  },
  {
   "cell_type": "code",
   "execution_count": 58,
   "id": "a4c091de",
   "metadata": {},
   "outputs": [
    {
     "data": {
      "text/plain": [
       "['mei']"
      ]
     },
     "execution_count": 58,
     "metadata": {},
     "output_type": "execute_result"
    }
   ],
   "source": [
    "i = \"mynameissan\"\n",
    "i[4:7].split()"
   ]
  },
  {
   "cell_type": "code",
   "execution_count": 59,
   "id": "4d5a155b",
   "metadata": {},
   "outputs": [],
   "source": [
    "# 10) Write a python program to insert a 2 string in the middle of 1 string\n",
    "# Input: Str1=”myn” Str2=”sa”      Output:-“msayn”\n"
   ]
  },
  {
   "cell_type": "code",
   "execution_count": 62,
   "id": "bb86559e",
   "metadata": {},
   "outputs": [
    {
     "name": "stdout",
     "output_type": "stream",
     "text": [
      "msayn\n"
     ]
    }
   ],
   "source": [
    "# Given strings\n",
    "Str1 = \"myn\"\n",
    "Str2 = \"sa\"\n",
    "\n",
    "# Calculate the middle index of Str1\n",
    "middle_index = len(Str1) // 2\n",
    "\n",
    "# Slice Str1 into two parts\n",
    "part1 = Str1[:middle_index]  # Before the middle\n",
    "part2 = Str1[middle_index:]  # After the middle\n",
    "\n",
    "# Concatenate part1, Str2, and part2\n",
    "result = part1 + Str2 + part2\n",
    "\n",
    "# Print the result\n",
    "print(result)\n"
   ]
  },
  {
   "cell_type": "code",
   "execution_count": 63,
   "id": "dc722416",
   "metadata": {},
   "outputs": [
    {
     "name": "stdout",
     "output_type": "stream",
     "text": [
      "msayn\n"
     ]
    }
   ],
   "source": [
    "# Given strings\n",
    "Str1 = \"myn\"\n",
    "Str2 = \"sa\"\n",
    "\n",
    "# Determine the middle index manually\n",
    "middle_index = 1  # As the length of \"myn\" is 3, the middle index is 1 (len(Str1) // 2)\n",
    "\n",
    "# Manually slice and concatenate the strings\n",
    "result = Str1[:middle_index] + Str2 + Str1[middle_index:]\n",
    "\n",
    "# Print the result\n",
    "print(result)\n"
   ]
  },
  {
   "cell_type": "code",
   "execution_count": 64,
   "id": "ae75765f",
   "metadata": {},
   "outputs": [
    {
     "name": "stdout",
     "output_type": "stream",
     "text": [
      "msayn\n"
     ]
    }
   ],
   "source": [
    "# Given strings\n",
    "Str1 = \"myn\"\n",
    "Str2 = \"sa\"\n",
    "\n",
    "# Explicitly calculate indexes\n",
    "before_middle = Str1[0:1]  # First part up to middle index\n",
    "after_middle = Str1[1:3]   # Second part from middle index to end\n",
    "\n",
    "# Concatenate\n",
    "result = before_middle + Str2 + after_middle\n",
    "\n",
    "# Print the result\n",
    "print(result)\n"
   ]
  },
  {
   "cell_type": "code",
   "execution_count": 65,
   "id": "ef22f57d",
   "metadata": {},
   "outputs": [
    {
     "name": "stdout",
     "output_type": "stream",
     "text": [
      "msayn\n"
     ]
    }
   ],
   "source": [
    "# Given strings\n",
    "Str1 = \"myn\"\n",
    "Str2 = \"sa\"\n",
    "\n",
    "# Manually determine the pre and post parts based on known positions\n",
    "pre = \"m\"  # First half of Str1\n",
    "post = \"yn\"  # Second half of Str1\n",
    "\n",
    "# Concatenate\n",
    "result = pre + Str2 + post\n",
    "\n",
    "# Print the result\n",
    "print(result)\n"
   ]
  },
  {
   "cell_type": "code",
   "execution_count": 66,
   "id": "ae66ed5d",
   "metadata": {},
   "outputs": [
    {
     "name": "stdout",
     "output_type": "stream",
     "text": [
      "msayn\n"
     ]
    }
   ],
   "source": [
    "# Given strings\n",
    "Str1 = \"myn\"\n",
    "Str2 = \"sa\"\n",
    "\n",
    "# Manually split and concatenate\n",
    "result = \"m\" + Str2 + \"yn\"\n",
    "\n",
    "# Print the result\n",
    "print(result)\n"
   ]
  },
  {
   "cell_type": "code",
   "execution_count": 67,
   "id": "610fb232",
   "metadata": {},
   "outputs": [],
   "source": [
    "# 11) Write a program to remove vowels from the entire alphabets\n",
    "# Ex:- Input: “abcdefghijklmnopqrstuvwxyz”    Output: “bcdfghjklmnpqrstvwxyz”\n"
   ]
  },
  {
   "cell_type": "code",
   "execution_count": 68,
   "id": "ab864c72",
   "metadata": {},
   "outputs": [
    {
     "data": {
      "text/plain": [
       "'BCDFGHJKLMNPQRSTVWXYZ'"
      ]
     },
     "execution_count": 68,
     "metadata": {},
     "output_type": "execute_result"
    }
   ],
   "source": [
    "k='abcdefghijklmnopqrstuvwxyz'\n",
    "k=k.upper()\n",
    "k.replace('A','').replace('E','').replace('I','').replace('O','').replace('U','')"
   ]
  },
  {
   "cell_type": "code",
   "execution_count": null,
   "id": "98f54e96",
   "metadata": {},
   "outputs": [],
   "source": []
  }
 ],
 "metadata": {
  "kernelspec": {
   "display_name": "Python 3 (ipykernel)",
   "language": "python",
   "name": "python3"
  },
  "language_info": {
   "codemirror_mode": {
    "name": "ipython",
    "version": 3
   },
   "file_extension": ".py",
   "mimetype": "text/x-python",
   "name": "python",
   "nbconvert_exporter": "python",
   "pygments_lexer": "ipython3",
   "version": "3.10.9"
  }
 },
 "nbformat": 4,
 "nbformat_minor": 5
}
