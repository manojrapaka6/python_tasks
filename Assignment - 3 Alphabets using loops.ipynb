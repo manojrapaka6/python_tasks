{
 "cells": [
  {
   "cell_type": "code",
   "execution_count": 18,
   "id": "261da5e5",
   "metadata": {},
   "outputs": [
    {
     "name": "stdout",
     "output_type": "stream",
     "text": [
      "Enter lower to print lower case alphabets: lower\n",
      "a b c d e f g h i j k l m n o p q r s t u v w x y z "
     ]
    }
   ],
   "source": [
    "# 1) Create a python program to print lower case alphabets (a-z) with conditional statement\n",
    "\n",
    "a=input('Enter lower to print lower case alphabets: ')\n",
    "if a=='lower':\n",
    "    x=ord('a')\n",
    "    while x<=ord('z'):\n",
    "        print(chr(x),end=' ')\n",
    "        x=x+1\n",
    "else:\n",
    "    print('bye')"
   ]
  },
  {
   "cell_type": "code",
   "execution_count": 17,
   "id": "e2e4ebd0",
   "metadata": {},
   "outputs": [
    {
     "name": "stdout",
     "output_type": "stream",
     "text": [
      "Enter 1 to print lower and 2 to print upper: 5\n",
      "bye\n"
     ]
    }
   ],
   "source": [
    "# 2) Create a python program to print lower & upper case alphabets with looping concepts (while loop and for loop)\n",
    "\n",
    "# by using while loop\n",
    "\n",
    "b=int(input('Enter 1 to print lower and 2 to print upper: '))\n",
    "while(type(b)==int):\n",
    "    if (b==1):\n",
    "        y=ord('a')\n",
    "        while y<=ord('z'):\n",
    "            print(chr(y),end=' ')\n",
    "            y=y+1\n",
    "        break\n",
    "            \n",
    "    elif(b==2):\n",
    "        z=ord('A')\n",
    "        while z<=ord('Z'):\n",
    "            print(chr(z),end=' ')\n",
    "            z=z+1\n",
    "        break\n",
    "    else:\n",
    "        print('bye')\n",
    "    break"
   ]
  },
  {
   "cell_type": "code",
   "execution_count": 16,
   "id": "861c7b1d",
   "metadata": {},
   "outputs": [
    {
     "name": "stdout",
     "output_type": "stream",
     "text": [
      "Enter 1 to print upper and 2 to print lower: 5\n",
      "Bye\n"
     ]
    }
   ],
   "source": [
    "# by using for loop\n",
    "\n",
    "c=int(input('Enter 1 to print upper and 2 to print lower: '))\n",
    "if c==1:\n",
    "    for d in range(ord('a'),ord('z')):\n",
    "        print(chr(d),end=' ')\n",
    "        d=d+1\n",
    "elif c==2:\n",
    "    for d1 in range(ord('A'),ord('Z')):\n",
    "        print(chr(d1),end=' ')\n",
    "        d1=d1+1\n",
    "else:\n",
    "    print('Bye')"
   ]
  },
  {
   "cell_type": "code",
   "execution_count": null,
   "id": "f81e82d8",
   "metadata": {},
   "outputs": [],
   "source": []
  }
 ],
 "metadata": {
  "kernelspec": {
   "display_name": "Python 3 (ipykernel)",
   "language": "python",
   "name": "python3"
  },
  "language_info": {
   "codemirror_mode": {
    "name": "ipython",
    "version": 3
   },
   "file_extension": ".py",
   "mimetype": "text/x-python",
   "name": "python",
   "nbconvert_exporter": "python",
   "pygments_lexer": "ipython3",
   "version": "3.11.3"
  }
 },
 "nbformat": 4,
 "nbformat_minor": 5
}
