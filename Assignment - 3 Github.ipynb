{
 "cells": [
  {
   "cell_type": "markdown",
   "id": "82dbf50a",
   "metadata": {},
   "source": [
    "## 1) Write a Python program that prints all the numbers from 0 to 6 except 3 and 6\n"
   ]
  },
  {
   "cell_type": "code",
   "execution_count": 4,
   "id": "276566e5",
   "metadata": {},
   "outputs": [
    {
     "name": "stdout",
     "output_type": "stream",
     "text": [
      "0 1 2 4 5 "
     ]
    }
   ],
   "source": [
    "for a in range(0,6):\n",
    "    if a==3:\n",
    "        continue\n",
    "    else:\n",
    "        print(a,end=' ')"
   ]
  },
  {
   "cell_type": "markdown",
   "id": "bcd044e5",
   "metadata": {},
   "source": [
    "## 2) Write a program to accept a number from a user and calculate the sum of all numbers from 1 to a given number"
   ]
  },
  {
   "cell_type": "code",
   "execution_count": 11,
   "id": "2c48f90c",
   "metadata": {},
   "outputs": [
    {
     "name": "stdout",
     "output_type": "stream",
     "text": [
      "Enter any number 5\n",
      "sum of numbers from 1 to 5 is = 15\n"
     ]
    }
   ],
   "source": [
    "b=int(input('Enter any number '))\n",
    "sum=0\n",
    "for b1 in range(1,b+1):\n",
    "    sum+=b1\n",
    "print(('sum of numbers from 1 to {} is = {}').format(b,sum))"
   ]
  },
  {
   "cell_type": "markdown",
   "id": "91f04b73",
   "metadata": {},
   "source": [
    "## 3) Write a program to print multiplication table of a given number(input)"
   ]
  },
  {
   "cell_type": "code",
   "execution_count": 19,
   "id": "c2a43ea2",
   "metadata": {},
   "outputs": [
    {
     "name": "stdout",
     "output_type": "stream",
     "text": [
      "Enter any number 2\n",
      "2 * 1 = 2\n",
      "2 * 2 = 4\n",
      "2 * 3 = 6\n",
      "2 * 4 = 8\n",
      "2 * 5 = 10\n",
      "2 * 6 = 12\n",
      "2 * 7 = 14\n",
      "2 * 8 = 16\n",
      "2 * 9 = 18\n",
      "2 * 10 = 20\n"
     ]
    }
   ],
   "source": [
    "c=int(input('Enter any number '))\n",
    "product=1\n",
    "for c1 in range(1,11):\n",
    "    print(('{} * {} = {}').format(c,c1,c*c1))"
   ]
  },
  {
   "cell_type": "markdown",
   "id": "daf882e8",
   "metadata": {},
   "source": [
    "# 4) Write a program to count the total number of digits in a number using a while loop."
   ]
  },
  {
   "cell_type": "code",
   "execution_count": 10,
   "id": "885c383e",
   "metadata": {},
   "outputs": [
    {
     "name": "stdout",
     "output_type": "stream",
     "text": [
      "Enter any number 45496\n",
      "5\n"
     ]
    }
   ],
   "source": [
    "d=0\n",
    "d1=input('Enter any number ')\n",
    "while d>=0:\n",
    "    print(len(d1))\n",
    "    break"
   ]
  },
  {
   "cell_type": "markdown",
   "id": "6b4ae779",
   "metadata": {},
   "source": [
    "## 5)  Write a Python program to guess a number between 1 to \n",
    "##      Example: User is prompted to enter a guess. If the user guesses wrong then the prompt           appears again until the guess is correct, on successful guess, user will get a \"Well guessed!\" message, and the program will exit."
   ]
  },
  {
   "cell_type": "code",
   "execution_count": 8,
   "id": "c02009a1",
   "metadata": {},
   "outputs": [
    {
     "name": "stdout",
     "output_type": "stream",
     "text": [
      "Guess the correct two digit number between 1-10 which is produced by computer 5\n",
      "Well Guess my boy!!!\n",
      "You and computer has picked 5 number\n"
     ]
    }
   ],
   "source": [
    "import random\n",
    "e=int(input('Guess the correct two digit number between 1-10 which is produced by computer '))\n",
    "e1=random.randint(1,10)\n",
    "while e>=0:\n",
    "    if e!=e1:\n",
    "        print('Wrong Guess...Try again ')\n",
    "        print('computer has picked',e1,'number')\n",
    "        break\n",
    "    else:\n",
    "        print('Well Guess my boy!!!')\n",
    "        print('You and computer has picked',e1,'number')\n",
    "        break"
   ]
  },
  {
   "cell_type": "markdown",
   "id": "8898dadf",
   "metadata": {},
   "source": [
    "## 6) Write a Python program which iterates the integers from 1 to 60.For   multiples of three print \"Fizz\" instead of the number and for the multiples of five print \"Buzz\". For numbers which are multiples of both three and five print \"FizzBuzz\"."
   ]
  },
  {
   "cell_type": "code",
   "execution_count": 10,
   "id": "d42f6fe9",
   "metadata": {},
   "outputs": [
    {
     "name": "stdout",
     "output_type": "stream",
     "text": [
      "Enter any number between 1 to 60:- 66\n",
      "Entered number is in out of range \n"
     ]
    }
   ],
   "source": [
    "f=int(input('Enter any number between 1 to 60:- '))\n",
    "while f in range(1,60):\n",
    "    if(f%3==0) and (f%5==0):\n",
    "        print('The given number',f,'is the multiple of 3 and 5')\n",
    "        print('so it is a FizzBuzz')\n",
    "    elif f%3==0:\n",
    "        print('The given number',f,'is the multiple of 3')\n",
    "        print('so it is Fizz...')\n",
    "    elif f%5==0:\n",
    "        print('The given number',f,'is the multiple of 5')\n",
    "        print('so it is Buzz...')\n",
    "    else:\n",
    "        print('Given number is not multiple of 3 or 5')\n",
    "    break\n",
    "else:\n",
    "    print('Entered number is in out of range ')"
   ]
  },
  {
   "cell_type": "code",
   "execution_count": 14,
   "id": "45e09442",
   "metadata": {},
   "outputs": [
    {
     "name": "stdout",
     "output_type": "stream",
     "text": [
      "1\n",
      "2\n",
      "Fizz\n",
      "4\n",
      "Buzz\n",
      "Fizz\n",
      "7\n",
      "8\n",
      "Fizz\n",
      "Buzz\n",
      "11\n",
      "Fizz\n",
      "13\n",
      "14\n",
      "FizzBuzz\n",
      "16\n",
      "17\n",
      "Fizz\n",
      "19\n",
      "Buzz\n",
      "Fizz\n",
      "22\n",
      "23\n",
      "Fizz\n",
      "Buzz\n",
      "26\n",
      "Fizz\n",
      "28\n",
      "29\n",
      "FizzBuzz\n",
      "31\n",
      "32\n",
      "Fizz\n",
      "34\n",
      "Buzz\n",
      "Fizz\n",
      "37\n",
      "38\n",
      "Fizz\n",
      "Buzz\n",
      "41\n",
      "Fizz\n",
      "43\n",
      "44\n",
      "FizzBuzz\n",
      "46\n",
      "47\n",
      "Fizz\n",
      "49\n",
      "Buzz\n",
      "Fizz\n",
      "52\n",
      "53\n",
      "Fizz\n",
      "Buzz\n",
      "56\n",
      "Fizz\n",
      "58\n",
      "59\n",
      "FizzBuzz\n"
     ]
    }
   ],
   "source": [
    "for f1 in range(1,61):\n",
    "    if f1%3==0 and f1%5==0:\n",
    "        print('FizzBuzz')\n",
    "    elif f1%3==0:\n",
    "        print('Fizz')\n",
    "    elif f1%5==0:\n",
    "        print('Buzz')\n",
    "    else:\n",
    "        print(f1)"
   ]
  },
  {
   "cell_type": "markdown",
   "id": "912ff4c1",
   "metadata": {},
   "source": [
    "## 7) Write a Python program that accepts a string and calculate the number of digits and letters Example: Input Python 3.2 Output Letters 6 Digits 2\n",
    "## Example: Input Python 3.2 Output Letters 6 Digits 2"
   ]
  },
  {
   "cell_type": "code",
   "execution_count": 10,
   "id": "1b6a355d",
   "metadata": {},
   "outputs": [
    {
     "name": "stdout",
     "output_type": "stream",
     "text": [
      "Enter your text:- Hithesh6111\n",
      "Number of letters is:- 7\n",
      "Number of digits is:- 4\n"
     ]
    }
   ],
   "source": [
    "g=input('Enter your text:- ')\n",
    "g1=0\n",
    "g2=0\n",
    "for g3 in g:\n",
    "    if g3.isalpha():\n",
    "        g1+=1\n",
    "    elif g3.isdigit():\n",
    "        g2+=1\n",
    "print('Number of letters is:-',g1)\n",
    "print('Number of digits is:-',g2)"
   ]
  },
  {
   "cell_type": "markdown",
   "id": "afdbf942",
   "metadata": {},
   "source": [
    "## 8) Write a Python program to check the validity of password input by users. Validation: At least 1 letter between [a-z] and 1 letter between [A-Z].At least 1 number between [0-9]. At least 1 character from [$#@] Minimum length 6 characters. Maximum length 16 characters."
   ]
  },
  {
   "cell_type": "code",
   "execution_count": 18,
   "id": "172f7755",
   "metadata": {
    "scrolled": true
   },
   "outputs": [
    {
     "name": "stdout",
     "output_type": "stream",
     "text": [
      "Minimum Length should be 6 and Maximum Length should be 16\n",
      "At least 1 letter between [a-z]\n",
      "At least 1 letter between [A-Z]\n",
      "At least 1 Number between [0-9]\n",
      "At least 1 symbol from    [$,#,@]\n",
      "\n",
      "Enter your password:- hithesh@6\n",
      "\n",
      "Password is not validated\n",
      "Re enter the password acoording to the rules \n"
     ]
    }
   ],
   "source": [
    "print('''Minimum Length should be 6 and Maximum Length should be 16\n",
    "At least 1 letter between [a-z]\n",
    "At least 1 letter between [A-Z]\n",
    "At least 1 Number between [0-9]\n",
    "At least 1 symbol from    [$,#,@]\\n''')\n",
    "\n",
    "h=input('Enter your password:- ')\n",
    "h1=['@','#','$']\n",
    "if 6<len(h)<=16:\n",
    "    for h2 in h:\n",
    "        h3=ord(h2)\n",
    "        if h2 in range(65,91) and range(97,123) and range(48,57) and h1:\n",
    "            print('Password is validated')\n",
    "            break\n",
    "    else:\n",
    "        print('\\nPassword is not validated\\nRe enter the password acoording to the rules ')\n",
    "else:\n",
    "    print('\\nRe enter the password acoording to the rules ')"
   ]
  },
  {
   "cell_type": "markdown",
   "id": "c65af096",
   "metadata": {},
   "source": [
    "## 9) Write a program in Python to reverse a word by using while loop"
   ]
  },
  {
   "cell_type": "code",
   "execution_count": 21,
   "id": "10f5d071",
   "metadata": {},
   "outputs": [
    {
     "name": "stdout",
     "output_type": "stream",
     "text": [
      "Enter any word:- hello\n",
      "olleh\n"
     ]
    }
   ],
   "source": [
    "i=input('Enter any word:- ')\n",
    "reverse=''\n",
    "index=len(i)-1\n",
    "while index>=0:\n",
    "    reverse=reverse+i[index]\n",
    "    index-=1\n",
    "print(reverse)"
   ]
  },
  {
   "cell_type": "markdown",
   "id": "d6bde8b1",
   "metadata": {},
   "source": [
    "## 10) Write a program which takes 10 integers as input using loop and print their average value on the screen"
   ]
  },
  {
   "cell_type": "code",
   "execution_count": 61,
   "id": "1f13e770",
   "metadata": {},
   "outputs": [
    {
     "name": "stdout",
     "output_type": "stream",
     "text": [
      "Enter any 10 integers by using space:- 1 2 3 4 5 6 7 8 9 10\n",
      "The sum of all numbers is:- 55 \n",
      "\n",
      "The average of the given numbers is:- 27.5\n"
     ]
    }
   ],
   "source": [
    "j=input('Enter any 10 integers by using space:- ')\n",
    "j1=j.split(' ')\n",
    "j2=0\n",
    "for j3 in j1:\n",
    "    j2=j2+int(j3)\n",
    "print('The sum of all numbers is:-',j2,'\\n')\n",
    "print('The average of the given numbers is:-',j2/2)"
   ]
  },
  {
   "cell_type": "markdown",
   "id": "a5cd0eab",
   "metadata": {},
   "source": [
    "## 11) Write a program which takes integer inputs from user until he/she presses “q” (Ask to press q to quit after every integer input). Print average and product of all numbers. "
   ]
  },
  {
   "cell_type": "code",
   "execution_count": 13,
   "id": "301ad801",
   "metadata": {},
   "outputs": [
    {
     "name": "stdout",
     "output_type": "stream",
     "text": [
      "Enter s to starts\n",
      "Enter q to quit\n",
      "Enter your input:- 2\n",
      "Enter q to quit\n",
      "Enter your input:- 2\n",
      "Enter q to quit\n",
      "Enter your input:- q\n",
      "\n",
      "The average of all numbers is:- 2.0\n",
      "The product of all numbers is:- 4\n"
     ]
    }
   ],
   "source": [
    "numbers=[]\n",
    "sum=0\n",
    "product=1\n",
    "k=input('Enter s to start')\n",
    "while k=='s':\n",
    "    print('''Enter q to quit''')\n",
    "    k1=input('Enter your input:- ')\n",
    "    if k1=='q':\n",
    "        break\n",
    "    numbers.append(int(k1))\n",
    "for k2 in numbers:\n",
    "    sum=sum+k2\n",
    "    product=product*k2\n",
    "print('\\nThe average of all numbers is:-',sum/2)\n",
    "print('The product of all numbers is:-',product)"
   ]
  },
  {
   "cell_type": "markdown",
   "id": "3a3026b3",
   "metadata": {},
   "source": [
    "## 12) Write a Python program which will remove all digits or any other characters from the string except alphabets\n",
    "Example:\n",
    "Input:\n",
    "“asd12.asd22”\n",
    "\n",
    "Output:\n",
    "'asdasd'"
   ]
  },
  {
   "cell_type": "code",
   "execution_count": 29,
   "id": "7cf2b999",
   "metadata": {},
   "outputs": [
    {
     "name": "stdout",
     "output_type": "stream",
     "text": [
      "Enter your text:- hithesh@6111\n"
     ]
    },
    {
     "data": {
      "text/plain": [
       "'hithesh'"
      ]
     },
     "execution_count": 29,
     "metadata": {},
     "output_type": "execute_result"
    }
   ],
   "source": [
    "text=input('Enter your text:- ')\n",
    "alpha=''\n",
    "for l in text:\n",
    "    if l.isalpha():\n",
    "        alpha=alpha+l\n",
    "    else:\n",
    "        continue\n",
    "alpha"
   ]
  },
  {
   "cell_type": "markdown",
   "id": "8ceac1c0",
   "metadata": {},
   "source": [
    "## 13) Write a python program to find the sum of all even numbers from 0 to 10"
   ]
  },
  {
   "cell_type": "code",
   "execution_count": 33,
   "id": "7f3d2669",
   "metadata": {},
   "outputs": [
    {
     "data": {
      "text/plain": [
       "30"
      ]
     },
     "execution_count": 33,
     "metadata": {},
     "output_type": "execute_result"
    }
   ],
   "source": [
    "even=0\n",
    "for m in range(0,11):\n",
    "    if m%2==0:\n",
    "        even=even+m\n",
    "even"
   ]
  },
  {
   "cell_type": "markdown",
   "id": "f42bcc86",
   "metadata": {},
   "source": [
    "## 14) Create a dynamic calculator which will run continually till you press “c”"
   ]
  },
  {
   "cell_type": "code",
   "execution_count": 3,
   "id": "8154b1e1",
   "metadata": {},
   "outputs": [
    {
     "name": "stdout",
     "output_type": "stream",
     "text": [
      "Enter your first number 5\n",
      "Enter your operator +\n",
      "Enter your second number 5\n",
      "sum of two numbers is 5+5=10\n",
      "Quit calculator enter c x\n",
      "Enter your first number 8\n",
      "Enter your operator *\n",
      "Enter your second number 10\n",
      "Product of two numbers is 8*10=80\n",
      "Quit calculator enter c c\n",
      "Thank You\n"
     ]
    }
   ],
   "source": [
    "quit=1\n",
    "\n",
    "while quit==1:\n",
    "\n",
    "    num1=int(input('Enter your first number '))\n",
    "    symbol=input('Enter your operator ')\n",
    "    num2=int(input('Enter your second number '))\n",
    "    \n",
    "    if(symbol=='+'):\n",
    "        print('sum of two numbers is {}+{}={}'.format(num1,num2,num1+num2))\n",
    "    elif(symbol=='-'):\n",
    "        print('Difference of two numbers is {}-{}={}'.format(num1,num2,num1-num2))\n",
    "    elif(symbol=='*'):\n",
    "        print('Product of two numbers is {}*{}={}'.format(num1,num2,num1*num2))\n",
    "    elif(symbol=='/'):\n",
    "        print('Divison of two numbers is {}/{}={}'.format(num1,num2,num1/num2))\n",
    "    elif(symbol=='**'):\n",
    "        print('Power of two numbers is {}**{}={}'.format(num1,num2,num1**num2))\n",
    "    else:\n",
    "        print('Operator Error')\n",
    "    \n",
    "    s=input('Quit calculator enter c ')\n",
    "    if(s=='c'):\n",
    "        print('Thank You')\n",
    "        break\n",
    "    else:\n",
    "        continue"
   ]
  },
  {
   "cell_type": "code",
   "execution_count": null,
   "id": "2631ad9a",
   "metadata": {},
   "outputs": [],
   "source": []
  }
 ],
 "metadata": {
  "kernelspec": {
   "display_name": "Python 3 (ipykernel)",
   "language": "python",
   "name": "python3"
  },
  "language_info": {
   "codemirror_mode": {
    "name": "ipython",
    "version": 3
   },
   "file_extension": ".py",
   "mimetype": "text/x-python",
   "name": "python",
   "nbconvert_exporter": "python",
   "pygments_lexer": "ipython3",
   "version": "3.11.3"
  }
 },
 "nbformat": 4,
 "nbformat_minor": 5
}
