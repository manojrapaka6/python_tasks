{
 "cells": [
  {
   "cell_type": "code",
   "execution_count": 35,
   "id": "b646693e",
   "metadata": {},
   "outputs": [
    {
     "name": "stdout",
     "output_type": "stream",
     "text": [
      "* * * * *\n",
      "        *\n",
      "* * * *  *\n",
      "*       * *\n",
      "* * * * *   * \n"
     ]
    }
   ],
   "source": [
    "# a\n",
    "a=1\n",
    "while a<=5:\n",
    "    if(a==1):\n",
    "        print('* * * * *')\n",
    "    elif(a==2):\n",
    "        print('        *')\n",
    "    elif(a==3):\n",
    "        print('* * * *  *')\n",
    "    elif(a==4):\n",
    "        print('*       * *')\n",
    "    else:\n",
    "        print('* * * * *   * ')\n",
    "    a=a+1"
   ]
  },
  {
   "cell_type": "code",
   "execution_count": 36,
   "id": "bdff3f31",
   "metadata": {},
   "outputs": [
    {
     "name": "stdout",
     "output_type": "stream",
     "text": [
      "*        \n",
      "*        \n",
      "*        \n",
      "* * * * \n",
      "*      *\n",
      "* * * * \n"
     ]
    }
   ],
   "source": [
    "# b\n",
    "\n",
    "b=1\n",
    "while b<=6:\n",
    "    if(b==1) or (b==2) or (b==3):\n",
    "        print('*        ')\n",
    "    elif(b==4) or (b==6):\n",
    "        print('* * * * ')\n",
    "    else:\n",
    "        print('*      *')\n",
    "    b=b+1"
   ]
  },
  {
   "cell_type": "code",
   "execution_count": 3,
   "id": "35172089",
   "metadata": {},
   "outputs": [
    {
     "name": "stdout",
     "output_type": "stream",
     "text": [
      " * * *\n",
      "*      \n",
      "*      \n",
      " * * *\n"
     ]
    }
   ],
   "source": [
    "# c\n",
    "\n",
    "c=1\n",
    "while c<=4:\n",
    "    if(c==1) or (c==4):\n",
    "        print(' * * *')\n",
    "    else:\n",
    "        print('*      ')\n",
    "    c=c+1"
   ]
  },
  {
   "cell_type": "code",
   "execution_count": 9,
   "id": "f3e84482",
   "metadata": {},
   "outputs": [
    {
     "name": "stdout",
     "output_type": "stream",
     "text": [
      "       *\n",
      "       *\n",
      "       *\n",
      " * * * *\n",
      "*      *\n",
      " * * * *\n"
     ]
    }
   ],
   "source": [
    "# d\n",
    "\n",
    "d=1\n",
    "while d<=6:\n",
    "    if(d==1) or (d==2) or (d==3):\n",
    "        print('       *')\n",
    "    elif(d==4) or (d==6):\n",
    "        print(' * * * *')\n",
    "    else:\n",
    "        print('*      *')\n",
    "    d=d+1"
   ]
  },
  {
   "cell_type": "code",
   "execution_count": 18,
   "id": "cbe7cd6d",
   "metadata": {},
   "outputs": [
    {
     "name": "stdout",
     "output_type": "stream",
     "text": [
      "* * * *\n",
      "*      *\n",
      "* * * *\n",
      "*      \n",
      "* * * *\n"
     ]
    }
   ],
   "source": [
    "# e\n",
    "\n",
    "e=1\n",
    "while e<=5:\n",
    "    if(e==1) or (e==3) or (e==5):\n",
    "        print('* * * *')\n",
    "    elif(e==4) or (e==4):\n",
    "        print('*      ')\n",
    "    else:\n",
    "        print('*      *')\n",
    "    e=e+1"
   ]
  },
  {
   "cell_type": "code",
   "execution_count": 46,
   "id": "8a224633",
   "metadata": {},
   "outputs": [
    {
     "name": "stdout",
     "output_type": "stream",
     "text": [
      "      **** \n",
      "      *   *  \n",
      "      *\n",
      "      *\n",
      "  * * * * * \n",
      "      *\n",
      "      *\n"
     ]
    }
   ],
   "source": [
    "# f\n",
    "\n",
    "f=1\n",
    "while f<=6:\n",
    "    if(f==1):\n",
    "        print('      **** ')\n",
    "    elif(f==2):\n",
    "        print('      *   *  ')\n",
    "        print('      *')\n",
    "    elif(f==4):\n",
    "        print('  * * * * * ')\n",
    "    else:\n",
    "        print('      *')\n",
    "    f=f+1"
   ]
  },
  {
   "cell_type": "code",
   "execution_count": 66,
   "id": "93d475d6",
   "metadata": {},
   "outputs": [
    {
     "name": "stdout",
     "output_type": "stream",
     "text": [
      " * * * * *\n",
      "*        *\n",
      " * * * * *\n",
      "         *\n",
      " *       *\n",
      "  * * * *\n"
     ]
    }
   ],
   "source": [
    "# g\n",
    "\n",
    "g=1\n",
    "while g<=6:\n",
    "    if(g==1) or (g==3):\n",
    "        print(' * * * * *')\n",
    "    elif(g==2):\n",
    "        print('*        *')\n",
    "    elif(g==4):\n",
    "        print('         *')\n",
    "    elif(g==5):\n",
    "        print(' *       *')\n",
    "    else:\n",
    "        print('  * * * *')\n",
    "    g=g+1"
   ]
  },
  {
   "cell_type": "code",
   "execution_count": 71,
   "id": "01536126",
   "metadata": {},
   "outputs": [
    {
     "name": "stdout",
     "output_type": "stream",
     "text": [
      "*        \n",
      "*        \n",
      "*        \n",
      "* * * *\n",
      "*     *\n",
      "*     *\n"
     ]
    }
   ],
   "source": [
    "# h\n",
    "\n",
    "h=1\n",
    "while h<=6:\n",
    "    if(h==1) or (h==2) or (h==3):\n",
    "        print('*        ')\n",
    "    elif(h==4):\n",
    "        print('* * * *')\n",
    "    else:\n",
    "        print('*     *')\n",
    "    h=h+1"
   ]
  },
  {
   "cell_type": "code",
   "execution_count": 6,
   "id": "d2e653b2",
   "metadata": {},
   "outputs": [
    {
     "name": "stdout",
     "output_type": "stream",
     "text": [
      "   *  \n",
      "      \n",
      "   +  \n",
      "   +  \n",
      "   +  \n",
      "   +  \n"
     ]
    }
   ],
   "source": [
    "# i\n",
    "\n",
    "i=1\n",
    "while i<=6:\n",
    "    if(i==2):\n",
    "        print('      ')\n",
    "    elif(i==1):\n",
    "        print('   *  ')\n",
    "    else:\n",
    "        print('   +  ')\n",
    "    i=i+1"
   ]
  },
  {
   "cell_type": "code",
   "execution_count": 25,
   "id": "a9a553e8",
   "metadata": {},
   "outputs": [
    {
     "name": "stdout",
     "output_type": "stream",
     "text": [
      "      +\n",
      "      *\n",
      "      *\n",
      "      *\n",
      "      *\n",
      "   *  *\n",
      "    * * \n"
     ]
    }
   ],
   "source": [
    "# j\n",
    "\n",
    "j=1\n",
    "while j<=7:\n",
    "    if(j==1):\n",
    "        print('      +')\n",
    "    elif(j==7):\n",
    "        print('    * * ')\n",
    "    elif(j==5):\n",
    "        print('      *')\n",
    "    elif(j==6):\n",
    "        print('   *  *')\n",
    "    else:\n",
    "        print('      *')\n",
    "    j=j+1"
   ]
  },
  {
   "cell_type": "code",
   "execution_count": 42,
   "id": "d587826c",
   "metadata": {},
   "outputs": [
    {
     "name": "stdout",
     "output_type": "stream",
     "text": [
      "*        \n",
      "*     *\n",
      "*   *\n",
      "* *     \n",
      "*   *\n",
      "*     *\n"
     ]
    }
   ],
   "source": [
    "# k\n",
    "\n",
    "k=1\n",
    "while k<=6:\n",
    "    if(k==1):\n",
    "        print('*        ')\n",
    "    elif(k==2) or (k==6):\n",
    "        print('*     *')\n",
    "    elif(k==3) or (k==5):\n",
    "        print('*   *')\n",
    "    else:\n",
    "        print('* *     ')\n",
    "    k=k+1"
   ]
  },
  {
   "cell_type": "code",
   "execution_count": 3,
   "id": "61ebda78",
   "metadata": {},
   "outputs": [
    {
     "name": "stdout",
     "output_type": "stream",
     "text": [
      " * \n",
      " * \n",
      " * \n",
      " * \n",
      " * \n"
     ]
    }
   ],
   "source": [
    "# l\n",
    "\n",
    "l=1\n",
    "while l<=6:\n",
    "    print(' * ')\n",
    "    l=l+1\n",
    "    if(l==6):\n",
    "        break"
   ]
  },
  {
   "cell_type": "code",
   "execution_count": 10,
   "id": "bba34b32",
   "metadata": {},
   "outputs": [
    {
     "name": "stdout",
     "output_type": "stream",
     "text": [
      "   * *   * *\n",
      " *     *     *\n",
      " *     *     *\n",
      " *           *\n",
      " *           *\n"
     ]
    }
   ],
   "source": [
    "# m\n",
    "\n",
    "m=1\n",
    "while m<=5:\n",
    "    if(m==1):\n",
    "        print('   * *   * *')\n",
    "    elif(m==2) or (m==3):\n",
    "        print(' *     *     *')\n",
    "    else:\n",
    "        print(' *           *')\n",
    "    m=m+1"
   ]
  },
  {
   "cell_type": "code",
   "execution_count": 26,
   "id": "cf5e7a09",
   "metadata": {},
   "outputs": [
    {
     "name": "stdout",
     "output_type": "stream",
     "text": [
      "    ****\n",
      "  *      * \n",
      "  *      *\n",
      "  *      *\n"
     ]
    }
   ],
   "source": [
    "# n\n",
    "\n",
    "n=1\n",
    "while n<=4:\n",
    "    if(n==1):\n",
    "        print('    ****')\n",
    "    elif(n==2):\n",
    "        print('  *      * ')\n",
    "    else:\n",
    "        print('  *      *' )\n",
    "    n=n+1"
   ]
  },
  {
   "cell_type": "code",
   "execution_count": 31,
   "id": "5e906506",
   "metadata": {},
   "outputs": [
    {
     "name": "stdout",
     "output_type": "stream",
     "text": [
      "  * *  \n",
      " *   *\n",
      " *   *\n",
      "  * *  \n"
     ]
    }
   ],
   "source": [
    "# o\n",
    "o=1\n",
    "while o<=4:\n",
    "    if(o==1) or (o==4):\n",
    "        print('  * *  ')\n",
    "    else:\n",
    "        print(' *   *')\n",
    "    o=o+1"
   ]
  },
  {
   "cell_type": "code",
   "execution_count": 49,
   "id": "b19003ca",
   "metadata": {},
   "outputs": [
    {
     "name": "stdout",
     "output_type": "stream",
     "text": [
      "*\n",
      "* * * *\n",
      "*      *\n",
      "* * * *\n",
      "*\n",
      "*\n"
     ]
    }
   ],
   "source": [
    "# p\n",
    "\n",
    "p=1\n",
    "while p<=6:\n",
    "    if(p==1):\n",
    "        print('*')\n",
    "    elif(p==2) or (p==4):\n",
    "        print('* * * *')\n",
    "    elif(p==3):\n",
    "        print('*      *')\n",
    "    else:\n",
    "        print('*')\n",
    "    p=p+1"
   ]
  },
  {
   "cell_type": "code",
   "execution_count": 48,
   "id": "f84d2077",
   "metadata": {},
   "outputs": [
    {
     "name": "stdout",
     "output_type": "stream",
     "text": [
      "  * * *\n",
      "*     *\n",
      "  * * *\n",
      "      *\n",
      "      * *\n",
      "      *\n"
     ]
    }
   ],
   "source": [
    "# q\n",
    "\n",
    "q=1\n",
    "while q<=6:\n",
    "    if(q==1) or (q==3):\n",
    "        print('  * * *')\n",
    "    elif(q==2):\n",
    "        print('*     *')\n",
    "    elif(q==5):\n",
    "        print('      * *')\n",
    "    else:\n",
    "        print('      *')\n",
    "    q=q+1"
   ]
  },
  {
   "cell_type": "code",
   "execution_count": 15,
   "id": "dfe097c3",
   "metadata": {},
   "outputs": [
    {
     "name": "stdout",
     "output_type": "stream",
     "text": [
      "*     *\n",
      " *   *\n",
      "   *\n",
      " *   *\n",
      " * * * \n"
     ]
    }
   ],
   "source": [
    "# r\n",
    "\n",
    "r=1\n",
    "while r<=5:\n",
    "    if(r==1):\n",
    "        print('*     *')\n",
    "    elif(r==2) or (r==4):\n",
    "        print(' *   *')\n",
    "    elif(r==3):\n",
    "        print('   *')\n",
    "    else:\n",
    "        print(' * * * ')\n",
    "    r=r+1"
   ]
  },
  {
   "cell_type": "code",
   "execution_count": 26,
   "id": "b95a0617",
   "metadata": {},
   "outputs": [
    {
     "name": "stdout",
     "output_type": "stream",
     "text": [
      " * * *\n",
      "*\n",
      " * * *\n",
      "      *\n",
      " * * *\n"
     ]
    }
   ],
   "source": [
    "# s\n",
    "\n",
    "s=1\n",
    "while s<=5:\n",
    "    if(s==1) or (s==3) or (s==5):\n",
    "        print(' * * *')\n",
    "    elif(s==2):\n",
    "        print('*')\n",
    "    else:\n",
    "        print('      *')\n",
    "    s=s+1"
   ]
  },
  {
   "cell_type": "code",
   "execution_count": 33,
   "id": "e026d291",
   "metadata": {},
   "outputs": [
    {
     "name": "stdout",
     "output_type": "stream",
     "text": [
      "   *   \n",
      "* * * *\n",
      "   *   \n",
      "   *  *\n",
      "   * *\n"
     ]
    }
   ],
   "source": [
    "# t\n",
    "\n",
    "t=1\n",
    "while t<=5:\n",
    "    if(t==1) or (t==3):\n",
    "        print('   *   ')\n",
    "    elif(t==2):\n",
    "        print('* * * *')\n",
    "    elif(t==4):\n",
    "        print('   *  *')\n",
    "    else:\n",
    "        print('   * *')\n",
    "    t=t+1"
   ]
  },
  {
   "cell_type": "code",
   "execution_count": 41,
   "id": "27c4f7d3",
   "metadata": {},
   "outputs": [
    {
     "name": "stdout",
     "output_type": "stream",
     "text": [
      "*     *\n",
      "*     *\n",
      " * * *  *\n"
     ]
    }
   ],
   "source": [
    "# u\n",
    "\n",
    "u=1\n",
    "while u<=3:\n",
    "    if(u==1) or (u==2):\n",
    "        print('*     *')\n",
    "    else:\n",
    "        print(' * * *  *')\n",
    "    u=u+1"
   ]
  },
  {
   "cell_type": "code",
   "execution_count": 52,
   "id": "8cf35c41",
   "metadata": {},
   "outputs": [
    {
     "name": "stdout",
     "output_type": "stream",
     "text": [
      "*     *\n",
      " *   *  \n",
      "   * \n"
     ]
    }
   ],
   "source": [
    "# v\n",
    "\n",
    "v=1\n",
    "while v<=3:\n",
    "    if(v==1):\n",
    "        print('*     *')\n",
    "    elif(v==2):\n",
    "        print(' *   *  ')\n",
    "    else:\n",
    "        print('   * ')\n",
    "    v=v+1"
   ]
  },
  {
   "cell_type": "code",
   "execution_count": 54,
   "id": "c0c906f4",
   "metadata": {},
   "outputs": [
    {
     "name": "stdout",
     "output_type": "stream",
     "text": [
      "*       *\n",
      "*       *\n",
      "*   *   *\n",
      "*       *\n"
     ]
    }
   ],
   "source": [
    "# w\n",
    "\n",
    "w=1\n",
    "while w<=4:\n",
    "    if(w==1) or (w==2) or (w==4):\n",
    "        print('*       *')\n",
    "    else:\n",
    "        print('*   *   *')\n",
    "    w=w+1"
   ]
  },
  {
   "cell_type": "code",
   "execution_count": 61,
   "id": "d578f46a",
   "metadata": {},
   "outputs": [
    {
     "name": "stdout",
     "output_type": "stream",
     "text": [
      "*       *\n",
      " *     *\n",
      "    *  \n",
      " *     *\n",
      "*       *\n"
     ]
    }
   ],
   "source": [
    "# x\n",
    "\n",
    "x=1\n",
    "while x<=5:\n",
    "    if(x==1) or (x==5):\n",
    "        print('*       *')\n",
    "    elif(x==2) or(x==4):\n",
    "        print(' *     *')\n",
    "    else:\n",
    "        print('    *  ')\n",
    "    x=x+1"
   ]
  },
  {
   "cell_type": "code",
   "execution_count": 82,
   "id": "f3853b80",
   "metadata": {},
   "outputs": [
    {
     "name": "stdout",
     "output_type": "stream",
     "text": [
      " *     *\n",
      " *     *\n",
      "  *  * *\n",
      "       *\n",
      "       *\n",
      " *     *\n",
      "    *  *\n"
     ]
    }
   ],
   "source": [
    "# y\n",
    "\n",
    "y=1\n",
    "while y<=7:\n",
    "    if(y==1) or (y==2):\n",
    "        print(' *     *')\n",
    "    elif(y==3):\n",
    "        print('  *  * *')\n",
    "    elif(y==4) or (y==5):\n",
    "        print('       *')\n",
    "    elif(y==6):\n",
    "        print(' *     *')\n",
    "    else:\n",
    "        print('    *  *')\n",
    "    y=y+1"
   ]
  },
  {
   "cell_type": "code",
   "execution_count": 91,
   "id": "391da57b",
   "metadata": {},
   "outputs": [
    {
     "name": "stdout",
     "output_type": "stream",
     "text": [
      "* * * \n",
      "  *\n",
      " *\n",
      "* * * \n"
     ]
    }
   ],
   "source": [
    "# z\n",
    "\n",
    "z=1\n",
    "while z<=4:\n",
    "    if(z==2):\n",
    "        print('  *')\n",
    "    elif(z==3):\n",
    "        print(' *')\n",
    "    else:\n",
    "        print('* * * ')\n",
    "    z=z+1"
   ]
  },
  {
   "cell_type": "code",
   "execution_count": null,
   "id": "187c14c8",
   "metadata": {},
   "outputs": [],
   "source": []
  }
 ],
 "metadata": {
  "kernelspec": {
   "display_name": "Python 3 (ipykernel)",
   "language": "python",
   "name": "python3"
  },
  "language_info": {
   "codemirror_mode": {
    "name": "ipython",
    "version": 3
   },
   "file_extension": ".py",
   "mimetype": "text/x-python",
   "name": "python",
   "nbconvert_exporter": "python",
   "pygments_lexer": "ipython3",
   "version": "3.11.3"
  }
 },
 "nbformat": 4,
 "nbformat_minor": 5
}
