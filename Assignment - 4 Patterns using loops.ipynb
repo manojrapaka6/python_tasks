{
 "cells": [
  {
   "cell_type": "code",
   "execution_count": 30,
   "id": "f0d51b6a",
   "metadata": {},
   "outputs": [
    {
     "name": "stdout",
     "output_type": "stream",
     "text": [
      "1  \n",
      "2 2  \n",
      "3 3 3  \n",
      "4 4 4 4  \n",
      "5 5 5 5 5  \n"
     ]
    }
   ],
   "source": [
    "# 1\n",
    "# 2 2\n",
    "# 3 3 3\n",
    "# 4 4 4 4\n",
    "# 5 5 5 5 5\n",
    "\n",
    "for a in range(1,6):\n",
    "    for a1 in range(a):\n",
    "        print(a,end=' ')\n",
    "    print(' ')"
   ]
  },
  {
   "cell_type": "code",
   "execution_count": 21,
   "id": "730f3751",
   "metadata": {},
   "outputs": [
    {
     "name": "stdout",
     "output_type": "stream",
     "text": [
      "1\n",
      "1 2\n",
      "1 2 3\n",
      "1 2 3 4\n",
      "1 2 3 4 5\n"
     ]
    }
   ],
   "source": [
    "# 1\n",
    "# 1 2\n",
    "# 1 2 3\n",
    "# 1 2 3 4\n",
    "# 1 2 3 4 5\n",
    "\n",
    "for b in '1':\n",
    "    print(b)\n",
    "    for b1 in '2':\n",
    "        print(b,b1)\n",
    "        for b2 in '3':\n",
    "            print(b,b1,b2)\n",
    "            for b3 in '4':\n",
    "                print(b,b1,b2,b3)\n",
    "                for b4 in '5':\n",
    "                    print(b,b1,b2,b3,b4)"
   ]
  },
  {
   "cell_type": "code",
   "execution_count": 4,
   "id": "d17ce5ba",
   "metadata": {},
   "outputs": [
    {
     "name": "stdout",
     "output_type": "stream",
     "text": [
      "1 1 1 1 1\n",
      "2 2 2 2\n",
      "3 3 3\n",
      "4 4\n",
      "5\n"
     ]
    }
   ],
   "source": [
    "# 1 1 1 1 1\n",
    "# 2 2 2 2\n",
    "# 3 3 3\n",
    "# 4 4\n",
    "# 5\n",
    "\n",
    "c=1\n",
    "while c<=5:\n",
    "    if(c==1):\n",
    "        print('1 1 1 1 1')\n",
    "    elif(c==2):\n",
    "        print('2 2 2 2')\n",
    "    elif(c==3):\n",
    "        print('3 3 3')\n",
    "    elif(c==4):\n",
    "        print('4 4')\n",
    "    else:\n",
    "        print('5')\n",
    "    c=c+1"
   ]
  },
  {
   "cell_type": "code",
   "execution_count": 5,
   "id": "87f02aab",
   "metadata": {},
   "outputs": [
    {
     "name": "stdout",
     "output_type": "stream",
     "text": [
      "5 5 5 5 5\n",
      "5 5 5 5\n",
      "5 5 5\n",
      "5 5\n",
      "5\n"
     ]
    }
   ],
   "source": [
    "# 5 5 5 5 5\n",
    "# 5 5 5 5\n",
    "# 5 5 5\n",
    "# 5 5\n",
    "# 5\n",
    "\n",
    "d=1\n",
    "while d<=5:\n",
    "    if(d==1):\n",
    "        print('5 5 5 5 5')\n",
    "    elif(d==2):\n",
    "        print('5 5 5 5')\n",
    "    elif(d==3):\n",
    "        print('5 5 5')\n",
    "    elif(d==4):\n",
    "        print('5 5')\n",
    "    else:\n",
    "        print('5')\n",
    "    d=d+1\n"
   ]
  },
  {
   "cell_type": "code",
   "execution_count": 6,
   "id": "3b53be0d",
   "metadata": {},
   "outputs": [
    {
     "name": "stdout",
     "output_type": "stream",
     "text": [
      "0 1 2 3 4 5\n",
      "0 1 2 3 4\n",
      "0 1 2 3\n",
      "0 1 2\n",
      "0 1\n"
     ]
    }
   ],
   "source": [
    "# 0 1 2 3 4 5\n",
    "# 0 1 2 3 4\n",
    "# 0 1 2 3\n",
    "# 0 1 2\n",
    "# 0 1\n",
    "\n",
    "e=1\n",
    "while e<=5:\n",
    "    if(e==1):\n",
    "        print('0 1 2 3 4 5')\n",
    "    elif(e==2):\n",
    "        print('0 1 2 3 4')\n",
    "    elif(e==3):\n",
    "        print('0 1 2 3')\n",
    "    elif(e==4):\n",
    "        print('0 1 2')\n",
    "    else:\n",
    "        print('0 1')\n",
    "    e=e+1"
   ]
  },
  {
   "cell_type": "code",
   "execution_count": 7,
   "id": "1104e4f3",
   "metadata": {},
   "outputs": [
    {
     "name": "stdout",
     "output_type": "stream",
     "text": [
      "1\n",
      "3 3\n",
      "5 5 5\n",
      "7 7 7 7\n",
      "9 9 9 9 9\n"
     ]
    }
   ],
   "source": [
    "# 1\n",
    "# 3 3\n",
    "# 5 5 5\n",
    "# 7 7 7 7\n",
    "# 9 9 9 9 9\n",
    "\n",
    "f=1\n",
    "while f<=5:\n",
    "    if(f==1):\n",
    "        print('1')\n",
    "    elif(f==2):\n",
    "        print('3 3')\n",
    "    elif(f==3):\n",
    "        print('5 5 5')\n",
    "    elif(f==4):\n",
    "        print('7 7 7 7')\n",
    "    else:\n",
    "        print('9 9 9 9 9')\n",
    "    f=f+1"
   ]
  },
  {
   "cell_type": "code",
   "execution_count": 1,
   "id": "21958821",
   "metadata": {},
   "outputs": [
    {
     "name": "stdout",
     "output_type": "stream",
     "text": [
      "5 5 5 5 5\n",
      "4 4 4 4\n",
      "3 3 3\n",
      "2 2\n",
      "1\n"
     ]
    }
   ],
   "source": [
    "# 5 5 5 5 5\n",
    "# 4 4 4 4\n",
    "# 3 3 3\n",
    "# 2 2\n",
    "# 1\n",
    "\n",
    "g=1\n",
    "while g<=5:\n",
    "    if(g==1):\n",
    "        print('5 5 5 5 5')\n",
    "    elif(g==2):\n",
    "        print('4 4 4 4')\n",
    "    elif(g==3):\n",
    "        print('3 3 3')\n",
    "    elif(g==4):\n",
    "        print('2 2')\n",
    "    else:\n",
    "        print('1')\n",
    "    g=g+1"
   ]
  },
  {
   "cell_type": "code",
   "execution_count": 3,
   "id": "7182b036",
   "metadata": {},
   "outputs": [
    {
     "name": "stdout",
     "output_type": "stream",
     "text": [
      "1\n",
      "2 1\n",
      "3 2 1\n",
      "4 3 2 1\n",
      "5 4 3 2 1\n"
     ]
    }
   ],
   "source": [
    "# 1\n",
    "# 2 1\n",
    "# 3 2 1\n",
    "# 4 3 2 1\n",
    "# 5 4 3 2 1\n",
    "\n",
    "h=1\n",
    "while h<=5:\n",
    "    if(h==1):\n",
    "        print('1')\n",
    "    elif(h==2):\n",
    "        print('2 1')\n",
    "    elif(h==3):\n",
    "        print('3 2 1')\n",
    "    elif(h==4):\n",
    "        print('4 3 2 1')\n",
    "    else:\n",
    "        print('5 4 3 2 1')\n",
    "    h=h+1"
   ]
  },
  {
   "cell_type": "code",
   "execution_count": 4,
   "id": "35880cf6",
   "metadata": {},
   "outputs": [
    {
     "name": "stdout",
     "output_type": "stream",
     "text": [
      "5 4 3 2 1\n",
      "4 3 2 1\n",
      "3 2 1\n",
      "2 1\n",
      "1\n"
     ]
    }
   ],
   "source": [
    "# 5 4 3 2 1\n",
    "# 4 3 2 1\n",
    "# 3 2 1\n",
    "# 2 1\n",
    "# 1\n",
    "\n",
    "i=1\n",
    "while i<=5:\n",
    "    if(i==1):\n",
    "        print('5 4 3 2 1')\n",
    "    elif(i==2):\n",
    "        print('4 3 2 1')\n",
    "    elif(i==3):\n",
    "        print('3 2 1')\n",
    "    elif(i==4):\n",
    "        print('2 1')\n",
    "    else:\n",
    "        print('1')\n",
    "    i=i+1"
   ]
  },
  {
   "cell_type": "code",
   "execution_count": 5,
   "id": "f46fd1c6",
   "metadata": {},
   "outputs": [
    {
     "name": "stdout",
     "output_type": "stream",
     "text": [
      "1\n",
      "3 2\n",
      "6 5 4\n",
      "10 9 8 7\n"
     ]
    }
   ],
   "source": [
    "# 1\n",
    "# 3 2\n",
    "# 6 5 4\n",
    "# 10 9 8 7\n",
    "\n",
    "j=1\n",
    "while j<=4:\n",
    "    if(j==1):\n",
    "        print('1')\n",
    "    elif(j==2):\n",
    "        print('3 2')\n",
    "    elif(j==3):\n",
    "        print('6 5 4')\n",
    "    else:\n",
    "        print('10 9 8 7')\n",
    "    j=j+1"
   ]
  },
  {
   "cell_type": "code",
   "execution_count": 16,
   "id": "c1e9a6e8",
   "metadata": {},
   "outputs": [
    {
     "name": "stdout",
     "output_type": "stream",
     "text": [
      "        1\n",
      "      1 2\n",
      "    1 2 3\n",
      "  1 2 3 4\n",
      "1 2 3 4 5\n"
     ]
    }
   ],
   "source": [
    "#         1\n",
    "#       1 2\n",
    "#     1 2 3\n",
    "#   1 2 3 4\n",
    "# 1 2 3 4 5\n",
    "\n",
    "j=1\n",
    "while j<=5:\n",
    "    if(j==1):\n",
    "        print('        1')\n",
    "    elif(j==2):\n",
    "        print('      1 2')\n",
    "    elif(j==3):\n",
    "        print('    1 2 3')\n",
    "    elif(j==4):\n",
    "        print('  1 2 3 4')\n",
    "    else:\n",
    "        print('1 2 3 4 5')\n",
    "    j=j+1"
   ]
  },
  {
   "cell_type": "code",
   "execution_count": 15,
   "id": "d6d327f4",
   "metadata": {},
   "outputs": [
    {
     "name": "stdout",
     "output_type": "stream",
     "text": [
      "1\n",
      "1 1\n",
      "1 2 1\n",
      "1 3 3 1\n",
      "1 4 6 4 1\n",
      "1 5 10 10 5 1\n",
      "1 6 15 20 15 6 1\n"
     ]
    }
   ],
   "source": [
    "# 1 \n",
    "# 1 1 \n",
    "# 1 2 1 \n",
    "# 1 3 3 1 \n",
    "# 1 4 6 4 1 \n",
    "# 1 5 10 10 5 1 \n",
    "# 1 6 15 20 15 6 1\n",
    "\n",
    "k=1\n",
    "while k<=7:\n",
    "    if(k==1):\n",
    "        print('1')\n",
    "    elif(k==2):\n",
    "        print('1 1')\n",
    "    elif(k==3):\n",
    "        print('1 2 1')\n",
    "    elif(k==4):\n",
    "        print('1 3 3 1')\n",
    "    elif(k==5):\n",
    "        print('1 4 6 4 1')\n",
    "    elif(k==6):\n",
    "        print('1 5 10 10 5 1')\n",
    "    else:\n",
    "        print('1 6 15 20 15 6 1')\n",
    "    k=k+1"
   ]
  },
  {
   "cell_type": "code",
   "execution_count": 17,
   "id": "50f6a56f",
   "metadata": {},
   "outputs": [
    {
     "name": "stdout",
     "output_type": "stream",
     "text": [
      "1 2 3 4 5\n",
      "2 2 3 4 5\n",
      "3 3 3 4 5\n",
      "4 4 4 4 5\n",
      "5 5 5 5 5\n"
     ]
    }
   ],
   "source": [
    "# 1 2 3 4 5 \n",
    "# 2 2 3 4 5 \n",
    "# 3 3 3 4 5 \n",
    "# 4 4 4 4 5 \n",
    "# 5 5 5 5 5\n",
    "\n",
    "l=1\n",
    "while l<=5:\n",
    "    if(l==1):\n",
    "        print('1 2 3 4 5')\n",
    "    elif(l==2):\n",
    "        print('2 2 3 4 5')\n",
    "    elif(l==3):\n",
    "        print('3 3 3 4 5')\n",
    "    elif(l==4):\n",
    "        print('4 4 4 4 5')\n",
    "    else:\n",
    "        print('5 5 5 5 5')\n",
    "    l=l+1"
   ]
  },
  {
   "cell_type": "code",
   "execution_count": 20,
   "id": "1b8fdc34",
   "metadata": {},
   "outputs": [
    {
     "name": "stdout",
     "output_type": "stream",
     "text": [
      "1\n",
      "2 4\n",
      "3 6 9\n",
      "4 8 12 16\n",
      "5 10 15 20 25\n",
      "6 12 18 24 30 36\n",
      "7 14 21 28 35 42 49\n",
      "8 16 24 32 40 48 56 64\n"
     ]
    }
   ],
   "source": [
    "# 1  \n",
    "# 2  4  \n",
    "# 3  6  9  \n",
    "# 4  8  12  16  \n",
    "# 5  10  15  20  25  \n",
    "# 6  12  18  24  30  36  \n",
    "# 7  14  21  28  35  42  49  \n",
    "# 8  16  24  32  40  48  56  64\n",
    "\n",
    "m=1\n",
    "while m<=8:\n",
    "    if(m==1):\n",
    "        print('1')\n",
    "    elif(m==2):\n",
    "        print('2 4')\n",
    "    elif(m==3):\n",
    "        print('3 6 9')\n",
    "    elif(m==4):\n",
    "        print('4 8 12 16')\n",
    "    elif(m==5):\n",
    "        print('5 10 15 20 25')\n",
    "    elif(m==6):\n",
    "        print('6 12 18 24 30 36')\n",
    "    elif(m==7):\n",
    "        print('7 14 21 28 35 42 49')\n",
    "    else:\n",
    "        print('8 16 24 32 40 48 56 64')\n",
    "    m=m+1"
   ]
  },
  {
   "cell_type": "code",
   "execution_count": 32,
   "id": "ca988b7a",
   "metadata": {},
   "outputs": [
    {
     "name": "stdout",
     "output_type": "stream",
     "text": [
      "*  \n",
      "* *  \n",
      "* * *  \n",
      "* * * *  \n",
      "* * * * *  \n"
     ]
    }
   ],
   "source": [
    "# * \n",
    "# * * \n",
    "# * * * \n",
    "# * * * * \n",
    "# * * * * * \n",
    "\n",
    "for n1 in range(1,6):\n",
    "    for n2 in range(n1):\n",
    "        print('*',end=' ')\n",
    "        n1=n1+1\n",
    "    print(' ')"
   ]
  },
  {
   "cell_type": "code",
   "execution_count": 55,
   "id": "be616352",
   "metadata": {},
   "outputs": [
    {
     "name": "stdout",
     "output_type": "stream",
     "text": [
      "        *\n",
      "      * *\n",
      "    * * *\n",
      "  * * * *\n",
      "* * * * *\n"
     ]
    }
   ],
   "source": [
    "#         * \n",
    "#       * * \n",
    "#     * * * \n",
    "#   * * * * \n",
    "# * * * * * \n",
    "\n",
    "o=1\n",
    "while o<=5:\n",
    "    if(o==1):\n",
    "        print('        *')\n",
    "    elif(o==2):\n",
    "        print('      * *')\n",
    "    elif(o==3):\n",
    "        print('    * * *')\n",
    "    elif(o==4):\n",
    "        print('  * * * *')\n",
    "    else:\n",
    "        print('* * * * *')\n",
    "    o=o+1"
   ]
  },
  {
   "cell_type": "code",
   "execution_count": 74,
   "id": "42624773",
   "metadata": {},
   "outputs": [
    {
     "name": "stdout",
     "output_type": "stream",
     "text": [
      "* * * * *\n",
      "* * * *\n",
      "* * *\n",
      "* *\n",
      "*\n"
     ]
    }
   ],
   "source": [
    "# * * * * *  \n",
    "# * * * *  \n",
    "# * * *  \n",
    "# * *  \n",
    "# *\n",
    "\n",
    "p=1\n",
    "while p<=5:\n",
    "    if(p==1):\n",
    "        print('* * * * *')\n",
    "    elif(p==2):\n",
    "        print('* * * *')\n",
    "    elif(p==3):\n",
    "        print('* * *')\n",
    "    elif(p==4):\n",
    "        print('* *')\n",
    "    else:\n",
    "        print('*')\n",
    "    p=p+1"
   ]
  },
  {
   "cell_type": "code",
   "execution_count": 75,
   "id": "1b8fe59b",
   "metadata": {},
   "outputs": [
    {
     "name": "stdout",
     "output_type": "stream",
     "text": [
      "* * * * * *\n",
      " * * * * *\n",
      "  * * * *\n",
      "   * * *\n",
      "    * *\n",
      "     *\n"
     ]
    }
   ],
   "source": [
    "# * * * * * * \n",
    "#  * * * * * \n",
    "#   * * * * \n",
    "#    * * * \n",
    "#     * * \n",
    "#      * \n",
    "\n",
    "q=1\n",
    "while q<=6:\n",
    "    if(q==1):\n",
    "        print('* * * * * *')\n",
    "    elif(q==2):\n",
    "        print(' * * * * *')\n",
    "    elif(q==3):\n",
    "        print('  * * * *')\n",
    "    elif(q==4):\n",
    "        print('   * * *')\n",
    "    elif(q==5):\n",
    "        print('    * *')\n",
    "    else:\n",
    "        print('     *')\n",
    "    q=q+1"
   ]
  },
  {
   "cell_type": "code",
   "execution_count": 78,
   "id": "3c4a9620",
   "metadata": {},
   "outputs": [
    {
     "name": "stdout",
     "output_type": "stream",
     "text": [
      "* \n",
      "** \n",
      "*** \n",
      "**** \n",
      "***** \n"
     ]
    }
   ],
   "source": [
    "# *****\n",
    "# ****\n",
    "# ***\n",
    "# **\n",
    "# *\n",
    "\n",
    "for r in range(1,6):\n",
    "    for r1 in range(r):\n",
    "        print('*',end='')\n",
    "        r=r+1\n",
    "    print(' ')"
   ]
  },
  {
   "cell_type": "code",
   "execution_count": 84,
   "id": "97518406",
   "metadata": {},
   "outputs": [
    {
     "name": "stdout",
     "output_type": "stream",
     "text": [
      "         * \n",
      "        *  *\n",
      "       *  *  *\n",
      "      *  *  *  *\n",
      "     *  *  *  *  *\n",
      "    *  *  *  *  *  *\n",
      "   *  *  *  *  *  *  *\n"
     ]
    }
   ],
   "source": [
    "#           *   \n",
    "#          *  *   \n",
    "#         *  *  *   \n",
    "#        *  *  *  *   \n",
    "#       *  *  *  *  *   \n",
    "#      *  *  *  *  *  *   \n",
    "#     *  *  *  *  *  *  *   \n",
    "\n",
    "s=1\n",
    "while s<=7:\n",
    "    if(s==1):\n",
    "        print('         * ')\n",
    "    elif(s==2):\n",
    "        print('        *  *')\n",
    "    elif(s==3):\n",
    "        print('       *  *  *')\n",
    "    elif(s==4):\n",
    "        print('      *  *  *  *')\n",
    "    elif(s==5):\n",
    "        print('     *  *  *  *  *')\n",
    "    elif(s==6):\n",
    "        print('    *  *  *  *  *  *')\n",
    "    else:\n",
    "        print('   *  *  *  *  *  *  *')\n",
    "    s=s+1"
   ]
  },
  {
   "cell_type": "code",
   "execution_count": 96,
   "id": "7dc972d7",
   "metadata": {},
   "outputs": [
    {
     "name": "stdout",
     "output_type": "stream",
     "text": [
      "*\n",
      "* * \n",
      "* * *\n",
      "* * * *\n",
      "* * * * *\n",
      "* * * * * *\n",
      " \n",
      "* * * * * *\n",
      "* * * * *\n",
      "* * * *\n",
      "* * *\n",
      "* *\n",
      "*\n"
     ]
    }
   ],
   "source": [
    "# *  \n",
    "# * *  \n",
    "# * * *  \n",
    "# * * * *  \n",
    "# * * * * *  \n",
    "# * * * * * *  \n",
    " \n",
    "# * * * * * *  \n",
    "# * * * * *  \n",
    "# * * * *  \n",
    "# * * *  \n",
    "# * *  \n",
    "# *  \n",
    "\n",
    "\n",
    "q=1\n",
    "while q<=13:\n",
    "    if(q==1):\n",
    "        print('*')\n",
    "    elif(q==2):\n",
    "        print('* * ')\n",
    "    elif(q==3):\n",
    "        print('* * *')\n",
    "    elif(q==4):\n",
    "        print('* * * *')\n",
    "    elif(q==5):\n",
    "        print('* * * * *')\n",
    "    elif(q==6):\n",
    "        print('* * * * * *')\n",
    "    elif(q==8):\n",
    "        print('* * * * * *')\n",
    "    elif(q==9):\n",
    "        print('* * * * *')\n",
    "    elif(q==10):\n",
    "        print('* * * *')\n",
    "    elif(q==11):\n",
    "        print('* * *')\n",
    "    elif(q==12):\n",
    "        print('* *')\n",
    "    elif(q==13):\n",
    "        print('*')\n",
    "    else:\n",
    "        print(' ')\n",
    "    q=q+1"
   ]
  }
 ],
 "metadata": {
  "kernelspec": {
   "display_name": "Python 3 (ipykernel)",
   "language": "python",
   "name": "python3"
  },
  "language_info": {
   "codemirror_mode": {
    "name": "ipython",
    "version": 3
   },
   "file_extension": ".py",
   "mimetype": "text/x-python",
   "name": "python",
   "nbconvert_exporter": "python",
   "pygments_lexer": "ipython3",
   "version": "3.11.3"
  }
 },
 "nbformat": 4,
 "nbformat_minor": 5
}
