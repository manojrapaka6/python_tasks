{
 "cells": [
  {
   "cell_type": "code",
   "execution_count": 1,
   "id": "6c049bd8",
   "metadata": {},
   "outputs": [
    {
     "data": {
      "text/plain": [
       "'hithesh'"
      ]
     },
     "execution_count": 1,
     "metadata": {},
     "output_type": "execute_result"
    }
   ],
   "source": [
    "# 1) Write a python program to convert a string to lower case\n",
    "\n",
    "a='HITHESH'\n",
    "a.lower()"
   ]
  },
  {
   "cell_type": "code",
   "execution_count": 54,
   "id": "d501cbe2",
   "metadata": {
    "scrolled": false
   },
   "outputs": [
    {
     "data": {
      "text/plain": [
       "'PyThOn'"
      ]
     },
     "execution_count": 54,
     "metadata": {},
     "output_type": "execute_result"
    }
   ],
   "source": [
    "# 2) Write a python program to convert only odd indexed characters to lower case\n",
    "# Ex:- Input: PYTHON    Output: PyThOn\n",
    "\n",
    "b='PYTHON'\n",
    "b[0].upper()+b[1].lower()+b[2].upper()+b[3].lower()+b[4].upper()+b[5].lower()"
   ]
  },
  {
   "cell_type": "code",
   "execution_count": 56,
   "id": "87ac48c8",
   "metadata": {},
   "outputs": [
    {
     "data": {
      "text/plain": [
       "'pYtHoN'"
      ]
     },
     "execution_count": 56,
     "metadata": {},
     "output_type": "execute_result"
    }
   ],
   "source": [
    "# 3) Write a python program to convert only even indexed characters to lower case\n",
    "# Ex:- Input: PYTHON  Output: pYtHoN\n",
    "\n",
    "c='PYTHON'\n",
    "c[0].lower()+c[1].upper()+c[2].lower()+c[3].upper()+c[4].lower()+c[5].upper()"
   ]
  },
  {
   "cell_type": "code",
   "execution_count": 57,
   "id": "ccc98a1e",
   "metadata": {},
   "outputs": [
    {
     "data": {
      "text/plain": [
       "'pYtHoN'"
      ]
     },
     "execution_count": 57,
     "metadata": {},
     "output_type": "execute_result"
    }
   ],
   "source": [
    "# 4) Write a python program to convert only odd indexed characters to upper case\n",
    "#Ex:- Input: python     Output: pYtHoN\n",
    "\n",
    "d='PYTHON'\n",
    "d[0].lower()+d[1].upper()+d[2].lower()+d[3].upper()+d[4].lower()+d[5].upper()"
   ]
  },
  {
   "cell_type": "code",
   "execution_count": 58,
   "id": "daf8f4d8",
   "metadata": {},
   "outputs": [
    {
     "data": {
      "text/plain": [
       "'PyThOn'"
      ]
     },
     "execution_count": 58,
     "metadata": {},
     "output_type": "execute_result"
    }
   ],
   "source": [
    "# 5) Write a python program to convert only even indexed characters to upper case\n",
    "#Ex:- Input: python  Output: - PyThOn\n",
    "\n",
    "e='PYTHON'\n",
    "e[0].upper()+e[1].lower()+e[2].upper()+e[3].lower()+e[4].upper()+e[5].lower()"
   ]
  },
  {
   "cell_type": "code",
   "execution_count": 66,
   "id": "5856a0da",
   "metadata": {},
   "outputs": [
    {
     "name": "stdout",
     "output_type": "stream",
     "text": [
      "Enter Your Name Hithesh\n",
      "Enter Your age 21\n",
      "Enter Your Gender Male\n",
      "Enter your Phone Number 123456789\n",
      "Enter Your Father Name Surendra\n",
      "Enter Your Mother Name Padma\n",
      "My Name is Hithesh, My age is 21, My Gender is Male, My Phone Number is 123456789, My Father Name is Surendra, My Mother Name is Padma\n"
     ]
    }
   ],
   "source": [
    "# 6) Write a python program where you have different variable which contains your name ,sex,age, phone no ,fathers name and \n",
    "#    mothers name.And by using this variable create a variable named bio-data where you will use all this variable\n",
    "#    Ex:-print(bio-data)\n",
    "#    Output:- My name is …., My age is ….,My phone-no is ….,my fathers name is …,and my mothers name is……\n",
    "\n",
    "f1=input('Enter Your Name ')\n",
    "f2=int(input('Enter Your age '))\n",
    "f3=input('Enter Your Gender ')\n",
    "f4=int(input('Enter your Phone Number '))\n",
    "f5=input('Enter Your Father Name ')\n",
    "f6=input('Enter Your Mother Name ')\n",
    "biodata=('My Name is {}, My age is {}, My Gender is {}, My Phone Number is {}, My Father Name is {}, My Mother Name is {}'.format(f1,f2,f3,f4,f5,f6))\n",
    "print(biodata)"
   ]
  },
  {
   "cell_type": "code",
   "execution_count": 68,
   "id": "15362cd0",
   "metadata": {},
   "outputs": [
    {
     "data": {
      "text/plain": [
       "4"
      ]
     },
     "execution_count": 68,
     "metadata": {},
     "output_type": "execute_result"
    }
   ],
   "source": [
    "# 7) Write a python program to count how many times “@” occurred\n",
    "g='hithesh@2001@november@6@tuesday'\n",
    "g.count('@')"
   ]
  },
  {
   "cell_type": "code",
   "execution_count": 80,
   "id": "96335e43",
   "metadata": {},
   "outputs": [
    {
     "name": "stdout",
     "output_type": "stream",
     "text": [
      "['hitheshsainadhgurram']\n",
      "['hitheshsainadh2001']\n"
     ]
    }
   ],
   "source": [
    "# 8) Write a python program to get only names from the string \n",
    "# Input: “name1.@gmail.com,name2.@gmail.com,name 3.@gmail.com” Output: name1,name2,name3\n",
    "\n",
    "h1='hitheshsainadhgurram@gmail.com'\n",
    "h2='hitheshsainadh2001@gmail.com'\n",
    "print(h1[0:20].split())\n",
    "print(h2[0:18].split())"
   ]
  },
  {
   "cell_type": "code",
   "execution_count": 92,
   "id": "d668b4ea",
   "metadata": {},
   "outputs": [
    {
     "data": {
      "text/plain": [
       "['hsa']"
      ]
     },
     "execution_count": 92,
     "metadata": {},
     "output_type": "execute_result"
    }
   ],
   "source": [
    "# 9) Given a string of odd length greater that 9, return a new string made of the middle three characters of a given String\n",
    "#    Ex:- Input: “mynameissan   Output: “mei”\n",
    "\n",
    "i='hitheshsainadh6'\n",
    "i[6:9].split()"
   ]
  },
  {
   "cell_type": "code",
   "execution_count": 98,
   "id": "e568582c",
   "metadata": {},
   "outputs": [
    {
     "data": {
      "text/plain": [
       "'hitheshsainadh'"
      ]
     },
     "execution_count": 98,
     "metadata": {},
     "output_type": "execute_result"
    }
   ],
   "source": [
    "# 10) Write a python program to insert a 2 string in the middle of 1 string\n",
    "# Input: Str1=”myn” Str2=”sa”      Output:-“msayn”\n",
    "\n",
    "j1='hitheshnadh'\n",
    "j2='sai'\n",
    "j3=j1[0:7]+j2+j1[7:]\n",
    "j3"
   ]
  },
  {
   "cell_type": "code",
   "execution_count": 105,
   "id": "bfe08c32",
   "metadata": {},
   "outputs": [
    {
     "data": {
      "text/plain": [
       "'BCDFGHJKLMNPQRSTVWXYZ'"
      ]
     },
     "execution_count": 105,
     "metadata": {},
     "output_type": "execute_result"
    }
   ],
   "source": [
    "# 11) Write a program to remove vowels from the entire alphabets\n",
    "# Ex:- Input: “abcdefghijklmnopqrstuvwxyz”    Output: “bcdfghjklmnpqrstvwxyz”\n",
    "\n",
    "k='abcdefghijklmnopqrstuvwxyz'\n",
    "k=k.upper()\n",
    "k.replace('A','').replace('E','').replace('I','').replace('O','').replace('U','')"
   ]
  },
  {
   "cell_type": "code",
   "execution_count": null,
   "id": "b70cb846",
   "metadata": {},
   "outputs": [],
   "source": []
  }
 ],
 "metadata": {
  "kernelspec": {
   "display_name": "Python 3 (ipykernel)",
   "language": "python",
   "name": "python3"
  },
  "language_info": {
   "codemirror_mode": {
    "name": "ipython",
    "version": 3
   },
   "file_extension": ".py",
   "mimetype": "text/x-python",
   "name": "python",
   "nbconvert_exporter": "python",
   "pygments_lexer": "ipython3",
   "version": "3.11.3"
  }
 },
 "nbformat": 4,
 "nbformat_minor": 5
}
