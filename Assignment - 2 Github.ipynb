{
 "cells": [
  {
   "cell_type": "code",
   "execution_count": 4,
   "id": "f025875e",
   "metadata": {},
   "outputs": [
    {
     "name": "stdout",
     "output_type": "stream",
     "text": [
      "Enter your first number 40\n",
      "Enter your second number 2\n",
      "40*2=80\n",
      "40/2=20.0\n"
     ]
    }
   ],
   "source": [
    "# 1) write a program to accept two numbers from user and calculate multiplication and division\n",
    "\n",
    "num1=int(input('Enter your first number '))\n",
    "num2=int(input('Enter your second number '))\n",
    "print('{}*{}={}'.format(num1,num2,num1*num2))\n",
    "print('{}/{}={}'.format(num1,num2,num1/num2))"
   ]
  },
  {
   "cell_type": "code",
   "execution_count": 83,
   "id": "6715debf",
   "metadata": {},
   "outputs": [
    {
     "name": "stdout",
     "output_type": "stream",
     "text": [
      "Enter your sentence or word hithesh\n",
      "h t e h "
     ]
    }
   ],
   "source": [
    "# 2) write a program to print the characters from a string that are present at an even index\n",
    "\n",
    "a=input('Enter your sentence or word ')\n",
    "for a1 in range(len(a)):\n",
    "    if a1%2==0:\n",
    "        print(a[a1],end=' ')"
   ]
  },
  {
   "cell_type": "code",
   "execution_count": 82,
   "id": "cd04b91b",
   "metadata": {},
   "outputs": [
    {
     "name": "stdout",
     "output_type": "stream",
     "text": [
      "Enter your sentence or word hithesh\n",
      "i h s "
     ]
    }
   ],
   "source": [
    "# 3) write a program to print the characters from a string that are present at an odd index\n",
    "\n",
    "b=input('Enter your sentence or word ')\n",
    "for b1 in range(len(b)):\n",
    "    if b1%2!=0:\n",
    "        print(b[b1],end=' ')"
   ]
  },
  {
   "cell_type": "code",
   "execution_count": 88,
   "id": "68a93c46",
   "metadata": {},
   "outputs": [
    {
     "name": "stdout",
     "output_type": "stream",
     "text": [
      "Enter your first number 5\n",
      "Enter your second number 2\n",
      "Difference of two numbers is 5-2=3\n"
     ]
    }
   ],
   "source": [
    "# 4) Write a python program which will print the sum of the two numbers if the two numbers are even or it will print the \n",
    "#    difference of two numbers\n",
    "\n",
    "c=int(input('Enter your first number '))\n",
    "c1=int(input('Enter your second number '))\n",
    "if c%2==0 and c1%2==0:\n",
    "    print('Sum of two numbers is {}+{}={}'.format(c,c1,c+c1))\n",
    "else:\n",
    "    print('Difference of two numbers is {}-{}={}'.format(c,c1,c-c1))"
   ]
  },
  {
   "cell_type": "code",
   "execution_count": 97,
   "id": "4750e3d7",
   "metadata": {},
   "outputs": [
    {
     "name": "stdout",
     "output_type": "stream",
     "text": [
      "Enter your sentence or word hithesh saiNadh\n",
      "H i T h E s H   S a I n A d H "
     ]
    }
   ],
   "source": [
    "# 5) Write a python program to convert all even indexed alphabets to upper and odd indexed char\n",
    "\n",
    "d=input('Enter your sentence or word ')\n",
    "for d1 in range(len(d)):\n",
    "    if d1%2==0:\n",
    "        print(d[d1].upper(),end=' ')\n",
    "    else:\n",
    "        print(d[d1].lower(),end=' ')"
   ]
  },
  {
   "cell_type": "code",
   "execution_count": 100,
   "id": "40a7e2b4",
   "metadata": {},
   "outputs": [
    {
     "name": "stdout",
     "output_type": "stream",
     "text": [
      "Enter any number 555\n",
      "True\n"
     ]
    }
   ],
   "source": [
    "# 6) Write a python program which will print True if the input number is divisible by 5 or else False\n",
    "\n",
    "e=int(input('Enter any number '))\n",
    "if e%5==0:\n",
    "    print('True')\n",
    "else:\n",
    "    print('False')"
   ]
  },
  {
   "cell_type": "code",
   "execution_count": 17,
   "id": "87c0f2c5",
   "metadata": {},
   "outputs": [
    {
     "name": "stdout",
     "output_type": "stream",
     "text": [
      "Enter your first number 5\n",
      "Enter your second number 5\n",
      "The sum of two numbers is 5+5=10\n"
     ]
    }
   ],
   "source": [
    "# 7) Given two integer numbers return their product only if the product is greater than 1000, else return their sum\n",
    "\n",
    "f=int(input('Enter your first number '))\n",
    "f1=int(input('Enter your second number '))\n",
    "f2=f*f1\n",
    "if f2>1000:\n",
    "    print('The Product of two numbers is {}*{}={}'.format(f,f1,f2))\n",
    "else:\n",
    "    print('The sum of two numbers is {}+{}={}'.format(f,f1,f+f1))"
   ]
  },
  {
   "cell_type": "code",
   "execution_count": 5,
   "id": "31dc6677",
   "metadata": {},
   "outputs": [
    {
     "name": "stdout",
     "output_type": "stream",
     "text": [
      "Enter your fisrt word hithesh\n",
      "Enter your second word sainadh\n",
      "hshnhh\n"
     ]
    }
   ],
   "source": [
    "# 8) Given two strings x, y writes a program to return a new string made of x and y’s first, middle, and last characters \n",
    "#    Example: Input X= 'pytho' Y='javas' Output 'pjtvos'\n",
    "\n",
    "g1=input('Enter your fisrt word ')\n",
    "g2=input('Enter your second word ')\n",
    "g3=len(g1)//2\n",
    "g4=len(g2)//2\n",
    "g5=g1[0]+g2[0]+g1[g3]+g2[g4]+g1[-1]+g2[-1]\n",
    "print(g5)"
   ]
  },
  {
   "cell_type": "code",
   "execution_count": 8,
   "id": "bc148bfc",
   "metadata": {},
   "outputs": [
    {
     "name": "stdout",
     "output_type": "stream",
     "text": [
      "Enter any three names seperated by space ramu bhanu hanu\n",
      "Name-1 :-ramu\n",
      "Name-2 :-bhanu\n",
      "Name-3 :-hanu\n"
     ]
    }
   ],
   "source": [
    "# 9) Write a python program to take three names as input from a user in the single input () function call \n",
    "#    Example: Input: Enter three names: - “person1 person2 person3” \n",
    "#             Output:Name1: - “person1” Name2: - “person2” Name3: - “person3”\n",
    "\n",
    "data=input(\"Enter any three names seperated by space \")\n",
    "data1=data.split()\n",
    "print('Name-1 :-{}'.format(data1[0]))\n",
    "print('Name-2 :-{}'.format(data1[1]))\n",
    "print('Name-3 :-{}'.format(data1[2]))"
   ]
  },
  {
   "cell_type": "code",
   "execution_count": 8,
   "id": "62745953",
   "metadata": {},
   "outputs": [
    {
     "name": "stdout",
     "output_type": "stream",
     "text": [
      "Enter your word hithesh\n",
      "Enter the first letter of the word h\n",
      "Enter the letter that what you replace @\n"
     ]
    },
    {
     "data": {
      "text/plain": [
       "'hit@es@'"
      ]
     },
     "execution_count": 8,
     "metadata": {},
     "output_type": "execute_result"
    }
   ],
   "source": [
    "# 10) Write a Python program to get a string from a given string where all occurrences of its first char have been \n",
    "#     changed to '@', except the first char itself. \n",
    "#     Example: Input: 'malayalam’ Output: 'malayala@' \n",
    "#     Example: Input: ' abcabab' Output: ‘abc@b@b’\n",
    "\n",
    "h=input('Enter your word ')\n",
    "h1=input('Enter the first letter of the word ')\n",
    "h2=input('Enter the letter that what you replace ')\n",
    "h3=h.replace(h1,h2)\n",
    "h4=h3.replace(h2,h1,1)\n",
    "h4"
   ]
  },
  {
   "cell_type": "code",
   "execution_count": 6,
   "id": "ccd46916",
   "metadata": {},
   "outputs": [
    {
     "name": "stdout",
     "output_type": "stream",
     "text": [
      "Enter any word: playing\n",
      "playly\n"
     ]
    }
   ],
   "source": [
    "# 11) Write a Python program to add 'ing' at the end of a given string (string length should be equal to or more than 3). \n",
    "#If the given string already ends with 'ing' then add 'ly' instead. If the string length of the given string is less than 3, \n",
    "# leave it unchanged\n",
    "# Example:\n",
    "# Input:\n",
    "# 'sing’\n",
    "# Output:\n",
    "# 'singing'\n",
    "# Input:\n",
    "#' playing'\n",
    "# Output:\n",
    "#‘playly’\n",
    "# Input:\n",
    "# ' on'\n",
    "# Output:\n",
    "# ‘on’\n",
    "\n",
    "i=input('Enter any word: ')\n",
    "while len(i)>=3:\n",
    "    if(i[-3:]!='ing'):\n",
    "        print(i+'ing')\n",
    "        break\n",
    "    elif(i[-3:]=='ing'):\n",
    "        print(i[0:-3]+'ly')\n",
    "        break\n",
    "else:\n",
    "    print(i)"
   ]
  },
  {
   "cell_type": "code",
   "execution_count": 11,
   "id": "87166df5",
   "metadata": {},
   "outputs": [
    {
     "name": "stdout",
     "output_type": "stream",
     "text": [
      "Enter the first number 5\n",
      "Enter the second number 5\n",
      "True\n"
     ]
    }
   ],
   "source": [
    "# 12) Write a python program that accepts two inputs num1 and num2 print True if one of them is 10 or if their sum is 10 \n",
    "#     otherwise print False\n",
    "\n",
    "num1=int(input('Enter the first number '))\n",
    "num2=int(input('Enter the second number '))\n",
    "num3=(num1+num2)\n",
    "if(num1==10 or num2 ==10) or (num3==10):\n",
    "    print('True')\n",
    "else:\n",
    "    print('False')"
   ]
  },
  {
   "cell_type": "code",
   "execution_count": 4,
   "id": "acda187c",
   "metadata": {},
   "outputs": [
    {
     "name": "stdout",
     "output_type": "stream",
     "text": [
      "Enter the first number 5\n",
      "Enter the second number 4\n",
      "Enter the third number 25\n",
      "False\n"
     ]
    }
   ],
   "source": [
    "# 13) Write a python program that accepts three inputs x, y and z print True if x*y>z otherwise False\n",
    "\n",
    "inp1=int(input('Enter the first number '))\n",
    "inp2=int(input('Enter the second number '))\n",
    "inp3=int(input('Enter the third number '))\n",
    "if((inp1*inp2)>inp3):\n",
    "    print('True')\n",
    "else:\n",
    "    print('False')"
   ]
  },
  {
   "cell_type": "code",
   "execution_count": 14,
   "id": "09bc914f",
   "metadata": {},
   "outputs": [
    {
     "name": "stdout",
     "output_type": "stream",
     "text": [
      "Enter a word hithesh\n",
      "Enter another word gurram\n",
      "False\n"
     ]
    }
   ],
   "source": [
    "# 14) Write a python program that accepts two strings inputs return True depending on whether the total number of characters \n",
    "#     in the first string is equal to the total number of characters in the second string\n",
    "\n",
    "k1=input('Enter a word ')\n",
    "k2=input('Enter another word ')\n",
    "if(len(k1)==len(k2)):\n",
    "    print('True')\n",
    "else:\n",
    "    print('False')"
   ]
  },
  {
   "cell_type": "code",
   "execution_count": 15,
   "id": "656cc85b",
   "metadata": {},
   "outputs": [
    {
     "name": "stdout",
     "output_type": "stream",
     "text": [
      "Enter a word good\n",
      "goodgoodgood\n"
     ]
    }
   ],
   "source": [
    "# 15) Write a python program that takes a string input, we'll say that the front is the first three characters of the string.\n",
    "#     If the string length is less than three characters, the front is whatever is there. Return a new string,\n",
    "#     which is three copies of the front\n",
    "\n",
    "word=input('Enter a word ')\n",
    "if (len(word)<=3):\n",
    "    print('new word =',word)\n",
    "elif len(word)>3:\n",
    "    print(word*3)\n",
    "else:\n",
    "    print('bye')\n"
   ]
  },
  {
   "cell_type": "code",
   "execution_count": 12,
   "id": "7c9b2cef",
   "metadata": {},
   "outputs": [
    {
     "name": "stdout",
     "output_type": "stream",
     "text": [
      "Enter a word hi\n",
      "hi not plural\n"
     ]
    }
   ],
   "source": [
    "# 16) Write a python program that takes in a word and determines whether or not it is plural. \n",
    "#     A plural word is one that ends in \"s\".\n",
    "\n",
    "m=input('Enter a word ')\n",
    "if(m[-1]=='s' or m[-1]=='S'):\n",
    "    print(m,'is plural')\n",
    "else:\n",
    "    print(m,'not plural')"
   ]
  },
  {
   "cell_type": "code",
   "execution_count": 2,
   "id": "d6a3b866",
   "metadata": {},
   "outputs": [
    {
     "name": "stdout",
     "output_type": "stream",
     "text": [
      "Tell me your name suresh\n",
      "Tell me your age 18\n",
      "Hello sir what brand of wine do you want \n"
     ]
    }
   ],
   "source": [
    "# 17) A bartender is writing a simple program to determine whether he should serve drinks to someone. He only serves drinks\n",
    "#     to people 18 and older and when he's not on break (True means break and False means not a break time).\n",
    "#     Given the person's age, and whether break time is in session, create a python program which prints whether he should\n",
    "#     serve drinks or not.\n",
    "\n",
    "name=input('Tell me your name ')\n",
    "age=int(input('Tell me your age '))\n",
    "while age>=18:\n",
    "    print('Hello sir what brand of wine do you want ')\n",
    "    break\n",
    "else:\n",
    "    print('Hello',name,'first go & study and plan your carrer instead of buying wine ')"
   ]
  },
  {
   "cell_type": "code",
   "execution_count": 3,
   "id": "093a8931",
   "metadata": {},
   "outputs": [
    {
     "name": "stdout",
     "output_type": "stream",
     "text": [
      "Enter a name sunny\n",
      "With this person you are not having any relation\n"
     ]
    }
   ],
   "source": [
    "# 18) Manoj Kumar has family and friends. Help him remind them who is who. Given a string with a name, return the relation of \n",
    "#     that person to Manoj Kumar\n",
    "\n",
    "n=input('Enter a name ')\n",
    "if n=='shiva':\n",
    "    print('The relation with Shiva is Father ')\n",
    "elif n=='latha':\n",
    "    print('The relation with Latha is Mother ')\n",
    "elif n=='tarun':\n",
    "    print('The relation with Tarun is Brother ')\n",
    "elif n=='kavitha':\n",
    "    print('The relation with Kavitha is Sister ')\n",
    "else:\n",
    "    print('With this person you are not having any relation')"
   ]
  },
  {
   "cell_type": "code",
   "execution_count": null,
   "id": "b42f041f",
   "metadata": {},
   "outputs": [],
   "source": [
    "# 19) Write a python program that takes a string, breaks it up and returns it with vowels first, consonants second. \n",
    "#     For any character that's not a vowel (like special characters or spaces), treat them like consonants"
   ]
  },
  {
   "cell_type": "code",
   "execution_count": 16,
   "id": "7723c199",
   "metadata": {},
   "outputs": [
    {
     "name": "stdout",
     "output_type": "stream",
     "text": [
      "Enter your first number5\n",
      "Enter your operator*\n",
      "Enter your second number5\n",
      "Product of Two numbers is 5*5=25\n"
     ]
    }
   ],
   "source": [
    "# 20) Create a dynamic calculator which asks for numbers and operator and return the answers\n",
    "#     Example Input:Type first number: 10   Type any of this (+, -, *, /, %, **): * Type second number: 19 Output:Answer is 190\n",
    "\n",
    "one=int(input('Enter your first number'))\n",
    "two=input('Enter your operator')\n",
    "three=int(input('Enter your second number'))\n",
    "if (two=='+'):\n",
    "    print('Sum of the Numbers is {}+{}={} '.format(one,three,one+three))\n",
    "elif(two=='-'):\n",
    "    print('Difference of Two numbers is {}-{}={}'.format(one,three,one-three))\n",
    "elif(two=='*'):\n",
    "    print('Product of Two numbers is {}*{}={}'.format(one,three,one*three))\n",
    "elif(two=='/'):\n",
    "    print('Divison of Two numbers is {}/{}={}'.format(one,three,one/three))\n",
    "else:\n",
    "    print('bye')"
   ]
  },
  {
   "cell_type": "code",
   "execution_count": null,
   "id": "6ab7fb4d",
   "metadata": {},
   "outputs": [],
   "source": []
  }
 ],
 "metadata": {
  "kernelspec": {
   "display_name": "Python 3 (ipykernel)",
   "language": "python",
   "name": "python3"
  },
  "language_info": {
   "codemirror_mode": {
    "name": "ipython",
    "version": 3
   },
   "file_extension": ".py",
   "mimetype": "text/x-python",
   "name": "python",
   "nbconvert_exporter": "python",
   "pygments_lexer": "ipython3",
   "version": "3.11.3"
  }
 },
 "nbformat": 4,
 "nbformat_minor": 5
}
