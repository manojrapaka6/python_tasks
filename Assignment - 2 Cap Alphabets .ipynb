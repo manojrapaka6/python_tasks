{
 "cells": [
  {
   "cell_type": "code",
   "execution_count": 11,
   "id": "20e3d06a",
   "metadata": {},
   "outputs": [
    {
     "name": "stdout",
     "output_type": "stream",
     "text": [
      "  ***  \n",
      "*     *\n",
      "*  *  *\n",
      "*     *\n"
     ]
    }
   ],
   "source": [
    "# A\n",
    "\n",
    "a=1\n",
    "while a<=4:\n",
    "    if(a==1):\n",
    "        print('  ***  ')\n",
    "    elif(a==2) or (a==4):\n",
    "        print('*     *')\n",
    "    else:\n",
    "        print('*  *  *')\n",
    "    a=a+1"
   ]
  },
  {
   "cell_type": "code",
   "execution_count": 12,
   "id": "4f0ea4a6",
   "metadata": {},
   "outputs": [
    {
     "name": "stdout",
     "output_type": "stream",
     "text": [
      "* * *\n",
      "*     *\n",
      "* * *\n",
      "*     *\n",
      "* * *\n"
     ]
    }
   ],
   "source": [
    "# B\n",
    "\n",
    "b=1\n",
    "while b<=5:\n",
    "    if(b==1):\n",
    "        print('* * *')\n",
    "    elif(b==2) or (b==4):\n",
    "        print('*     *')\n",
    "    else:\n",
    "        print('* * *')\n",
    "    b=b+1"
   ]
  },
  {
   "cell_type": "code",
   "execution_count": 16,
   "id": "0def00ee",
   "metadata": {},
   "outputs": [
    {
     "name": "stdout",
     "output_type": "stream",
     "text": [
      "* * * *\n",
      "*      \n",
      "*      \n",
      "*      \n",
      "* * * *\n"
     ]
    }
   ],
   "source": [
    "# C\n",
    "\n",
    "c=1\n",
    "while c<=5:\n",
    "    if(c==1) or (c==5):\n",
    "        print('* * * *')\n",
    "    else:\n",
    "        print('*      ')\n",
    "    c=c+1"
   ]
  },
  {
   "cell_type": "code",
   "execution_count": 18,
   "id": "196a645c",
   "metadata": {},
   "outputs": [
    {
     "name": "stdout",
     "output_type": "stream",
     "text": [
      "* * * *\n",
      "*       *\n",
      "*       *\n",
      "*       *\n",
      "* * * *\n"
     ]
    }
   ],
   "source": [
    "# D\n",
    "\n",
    "d=1\n",
    "while d<=5:\n",
    "    if(d==1) or (d==5):\n",
    "        print('* * * *')\n",
    "    else:\n",
    "        print('*       *')\n",
    "    d=d+1"
   ]
  },
  {
   "cell_type": "code",
   "execution_count": 20,
   "id": "68ec0a29",
   "metadata": {},
   "outputs": [
    {
     "name": "stdout",
     "output_type": "stream",
     "text": [
      "* * * *\n",
      "*      \n",
      "* * * *\n",
      "*      \n",
      "* * * *\n"
     ]
    }
   ],
   "source": [
    "# E\n",
    "\n",
    "e=1\n",
    "while e<=5:\n",
    "    if(e==1) or (e==3) or (e==5):\n",
    "        print('* * * *')\n",
    "    else:\n",
    "        print('*      ')\n",
    "    e=e+1"
   ]
  },
  {
   "cell_type": "code",
   "execution_count": 22,
   "id": "0eaec011",
   "metadata": {},
   "outputs": [
    {
     "name": "stdout",
     "output_type": "stream",
     "text": [
      "* * * *\n",
      "*      \n",
      "* * * *\n",
      "*      \n",
      "*      \n"
     ]
    }
   ],
   "source": [
    "# F\n",
    "\n",
    "f=1\n",
    "while f<=5:\n",
    "    if(f==1) or (f==3):\n",
    "        print('* * * *')\n",
    "    else:\n",
    "        print('*      ')\n",
    "    f=f+1"
   ]
  },
  {
   "cell_type": "code",
   "execution_count": 19,
   "id": "ac10e9f2",
   "metadata": {},
   "outputs": [
    {
     "name": "stdout",
     "output_type": "stream",
     "text": [
      "* * * * *\n",
      "*      \n",
      "*      \n",
      "*      \n",
      "*     *  *\n",
      "*     *  *\n",
      "* * * *  *\n"
     ]
    }
   ],
   "source": [
    "# G\n",
    "g=1\n",
    "while g<=7:\n",
    "    if(g==1):\n",
    "        print('* * * * *')\n",
    "    elif(g==2) or (g==3) or (g==4):\n",
    "        print('*      ')\n",
    "    elif(g==7):\n",
    "        print('* * * *  *')\n",
    "    else:\n",
    "        print('*     *  *')\n",
    "    g=g+1"
   ]
  },
  {
   "cell_type": "code",
   "execution_count": 20,
   "id": "5337eb24",
   "metadata": {},
   "outputs": [
    {
     "name": "stdout",
     "output_type": "stream",
     "text": [
      "*     *\n",
      "*     *\n",
      "* * * *\n",
      "*     *\n",
      "*     *\n"
     ]
    }
   ],
   "source": [
    "# H\n",
    "\n",
    "h=1\n",
    "while h<=5:\n",
    "    if(h==3):\n",
    "        print('* * * *')\n",
    "    else:\n",
    "        print('*     *')\n",
    "    h=h+1"
   ]
  },
  {
   "cell_type": "code",
   "execution_count": 21,
   "id": "fae4ff36",
   "metadata": {},
   "outputs": [
    {
     "name": "stdout",
     "output_type": "stream",
     "text": [
      "* * * * *\n",
      "    *    \n",
      "    *    \n",
      "    *    \n",
      "* * * * *\n"
     ]
    }
   ],
   "source": [
    "# I\n",
    "\n",
    "i=1\n",
    "while i<=5:\n",
    "    if(i==1) or (i==5):\n",
    "        print('* * * * *')\n",
    "    else:\n",
    "        print('    *    ')\n",
    "    i=i+1"
   ]
  },
  {
   "cell_type": "code",
   "execution_count": 22,
   "id": "81ae74c5",
   "metadata": {},
   "outputs": [
    {
     "name": "stdout",
     "output_type": "stream",
     "text": [
      "* * * * *\n",
      "    *    \n",
      "    *    \n",
      "*   *\n",
      "* * *    \n"
     ]
    }
   ],
   "source": [
    "# J\n",
    "\n",
    "j=1\n",
    "while j<=5:\n",
    "    if(j==1):\n",
    "        print('* * * * *')\n",
    "    elif(j==4):\n",
    "        print('*   *')\n",
    "    elif(j==5):\n",
    "        print('* * *    ')\n",
    "    else:\n",
    "        print('    *    ')\n",
    "    j=j+1"
   ]
  },
  {
   "cell_type": "code",
   "execution_count": 24,
   "id": "6f134580",
   "metadata": {},
   "outputs": [
    {
     "name": "stdout",
     "output_type": "stream",
     "text": [
      "*       *\n",
      "*   *\n",
      "* *      \n",
      "*   *\n",
      "*       *\n"
     ]
    }
   ],
   "source": [
    "# K\n",
    "\n",
    "k=1\n",
    "while k<=5:\n",
    "    if(k==1) or (k==5):\n",
    "        print('*       *')\n",
    "    elif(k==2) or (k==4):\n",
    "        print('*   *')\n",
    "    else:\n",
    "        print('* *      ')\n",
    "    k=k+1"
   ]
  },
  {
   "cell_type": "code",
   "execution_count": 26,
   "id": "b28e068d",
   "metadata": {},
   "outputs": [
    {
     "name": "stdout",
     "output_type": "stream",
     "text": [
      "*        \n",
      "*        \n",
      "*        \n",
      "*        \n",
      "* * * * *\n"
     ]
    }
   ],
   "source": [
    "# L\n",
    "\n",
    "l=1\n",
    "while l<=5:\n",
    "    if(l==5):\n",
    "        print('* * * * *')\n",
    "    else:\n",
    "        print('*        ')\n",
    "    l=l+1"
   ]
  },
  {
   "cell_type": "code",
   "execution_count": 27,
   "id": "4fdabcdd",
   "metadata": {},
   "outputs": [
    {
     "name": "stdout",
     "output_type": "stream",
     "text": [
      "*       *\n",
      "* *   * *\n",
      "*   *   *\n",
      "*       *\n",
      "*       *\n"
     ]
    }
   ],
   "source": [
    "# M\n",
    "\n",
    "m=1\n",
    "while m<=5:\n",
    "    if(m==2):\n",
    "        print('* *   * *')\n",
    "    elif(m==3):\n",
    "        print('*   *   *')\n",
    "    else:\n",
    "        print('*       *')\n",
    "    m=m+1"
   ]
  },
  {
   "cell_type": "code",
   "execution_count": 37,
   "id": "21af0d45",
   "metadata": {},
   "outputs": [
    {
     "name": "stdout",
     "output_type": "stream",
     "text": [
      "*       *\n",
      "* *     *\n",
      "*   *   *\n",
      "*     * *\n",
      "*       *\n"
     ]
    }
   ],
   "source": [
    "# N\n",
    "\n",
    "n=1\n",
    "while n<=5:\n",
    "    if(n==2):\n",
    "        print('* *     *')\n",
    "    elif(n==3):\n",
    "        print('*   *   *')\n",
    "    elif(n==4):\n",
    "        print('*     * *')\n",
    "    else:\n",
    "        print('*       *')\n",
    "    n=n+1"
   ]
  },
  {
   "cell_type": "code",
   "execution_count": 38,
   "id": "6de672dc",
   "metadata": {},
   "outputs": [
    {
     "name": "stdout",
     "output_type": "stream",
     "text": [
      "  * * *  \n",
      "*       *\n",
      "*       *\n",
      "*       *\n",
      "  * * *  \n"
     ]
    }
   ],
   "source": [
    "# O\n",
    "\n",
    "o=1\n",
    "while o<=5:\n",
    "    if(o==1) or (o==5):\n",
    "        print('  * * *  ')\n",
    "    else:\n",
    "        print('*       *')\n",
    "    o=o+1"
   ]
  },
  {
   "cell_type": "code",
   "execution_count": 39,
   "id": "704db953",
   "metadata": {},
   "outputs": [
    {
     "name": "stdout",
     "output_type": "stream",
     "text": [
      "* * * *  \n",
      "*       *\n",
      "* * * *  \n",
      "*        \n",
      "*        \n"
     ]
    }
   ],
   "source": [
    "# P\n",
    "\n",
    "p=1\n",
    "while p<=5:\n",
    "    if(p==1) or (p==3):\n",
    "        print('* * * *  ')\n",
    "    elif(p==5) or (p==4):\n",
    "        print('*        ')\n",
    "    else:\n",
    "        print('*       *')\n",
    "    p=p+1"
   ]
  },
  {
   "cell_type": "code",
   "execution_count": 44,
   "id": "13bf3561",
   "metadata": {},
   "outputs": [
    {
     "name": "stdout",
     "output_type": "stream",
     "text": [
      "  * * *  \n",
      "*       *\n",
      "* *     *\n",
      "*  *    *\n",
      "  * * *  \n",
      "       * \n"
     ]
    }
   ],
   "source": [
    "# Q\n",
    "\n",
    "q=1\n",
    "while q<=6:\n",
    "    if(q==1) or (q==5):\n",
    "        print('  * * *  ')\n",
    "    elif(q==2):\n",
    "        print('*       *')\n",
    "    elif(q==3):\n",
    "        print('* *     *')\n",
    "    elif(q==4):\n",
    "        print('*  *    *')\n",
    "    else:\n",
    "        print('       * ')\n",
    "    q=q+1"
   ]
  },
  {
   "cell_type": "code",
   "execution_count": 45,
   "id": "c0014d32",
   "metadata": {},
   "outputs": [
    {
     "name": "stdout",
     "output_type": "stream",
     "text": [
      "* * * * \n",
      "*      *\n",
      "* * * * \n",
      "*   *    \n",
      "*    *  \n",
      "*      *\n"
     ]
    }
   ],
   "source": [
    "# R\n",
    "\n",
    "r=1\n",
    "while r<=6:\n",
    "    if(r==1) or (r==3):\n",
    "        print('* * * * ')\n",
    "    elif(r==2) or (r==6):\n",
    "        print('*      *')\n",
    "    elif(r==4):\n",
    "        print('*   *    ')\n",
    "    else:\n",
    "        print('*    *  ')\n",
    "    r=r+1"
   ]
  },
  {
   "cell_type": "code",
   "execution_count": 29,
   "id": "b49d5a3c",
   "metadata": {},
   "outputs": [
    {
     "name": "stdout",
     "output_type": "stream",
     "text": [
      " * * * * *\n",
      "*        \n",
      "*        \n",
      " * * * * *\n",
      "          *\n",
      "          *\n",
      " * * * * *\n"
     ]
    }
   ],
   "source": [
    "# S\n",
    "\n",
    "s=1\n",
    "while s<=7:\n",
    "    if(s==1):\n",
    "        print(' * * * * *')\n",
    "    elif(s==2) or (s==3):\n",
    "        print('*        ')\n",
    "    elif(s==5) or (s==6):\n",
    "        print('          *')\n",
    "    else:\n",
    "        print(' * * * * *')\n",
    "    s=s+1"
   ]
  },
  {
   "cell_type": "code",
   "execution_count": 33,
   "id": "8e53e181",
   "metadata": {},
   "outputs": [
    {
     "name": "stdout",
     "output_type": "stream",
     "text": [
      "* * * * * * *\n",
      "      *      \n",
      "      *      \n",
      "      *      \n",
      "      *      \n"
     ]
    }
   ],
   "source": [
    "# T\n",
    "\n",
    "t=1\n",
    "while t<=5:\n",
    "    if(t==1):\n",
    "        print('* * * * * * *')\n",
    "    else:\n",
    "        print('      *      ')\n",
    "    t=t+1"
   ]
  },
  {
   "cell_type": "code",
   "execution_count": 44,
   "id": "9465a285",
   "metadata": {},
   "outputs": [
    {
     "name": "stdout",
     "output_type": "stream",
     "text": [
      "*         *\n",
      "*         *\n",
      "*         *\n",
      "*         *\n",
      "*         *\n",
      " * * * * *\n"
     ]
    }
   ],
   "source": [
    "# U\n",
    "\n",
    "u=1\n",
    "while u<=6:\n",
    "    if(u==6):\n",
    "        print(' * * * * *')\n",
    "    else:\n",
    "        print('*         *')\n",
    "    u=u+1"
   ]
  },
  {
   "cell_type": "code",
   "execution_count": 56,
   "id": "c7eeaf51",
   "metadata": {},
   "outputs": [
    {
     "name": "stdout",
     "output_type": "stream",
     "text": [
      "*              *\n",
      "  *          *  \n",
      "    *      *    \n",
      "      *   *\n",
      "        *\n"
     ]
    }
   ],
   "source": [
    "# V\n",
    "\n",
    "v=1\n",
    "while v<=5:\n",
    "    if(v==1):\n",
    "        print('*              *')\n",
    "    elif(v==2):\n",
    "        print('  *          *  ')\n",
    "    elif(v==3):\n",
    "        print('    *      *    ')\n",
    "    elif(v==4):\n",
    "        print('      *   *')\n",
    "    else:\n",
    "        print('        *')\n",
    "    v=v+1"
   ]
  },
  {
   "cell_type": "code",
   "execution_count": 59,
   "id": "e01dbae2",
   "metadata": {},
   "outputs": [
    {
     "name": "stdout",
     "output_type": "stream",
     "text": [
      "*       *\n",
      "*       *\n",
      "*   *   *\n",
      "* *   * *\n",
      "*       *\n"
     ]
    }
   ],
   "source": [
    "# W\n",
    "\n",
    "w=1\n",
    "while w<=5:\n",
    "    if(w==1) or (w==2) or (w==5):\n",
    "        print('*       *')\n",
    "    elif(w==3):\n",
    "        print('*   *   *')\n",
    "    else:\n",
    "        print('* *   * *')\n",
    "    w=w+1"
   ]
  },
  {
   "cell_type": "code",
   "execution_count": 61,
   "id": "72bd061f",
   "metadata": {},
   "outputs": [
    {
     "name": "stdout",
     "output_type": "stream",
     "text": [
      "*       *\n",
      " *     *\n",
      "  *   *\n",
      "    *  \n",
      "  *   *\n",
      " *     *\n",
      "*       *\n"
     ]
    }
   ],
   "source": [
    "# X\n",
    "\n",
    "x=1\n",
    "while x<=7:\n",
    "    if(x==1) or (x==7):\n",
    "        print('*       *')\n",
    "    elif(x==2) or(x==6):\n",
    "        print(' *     *')\n",
    "    elif(x==3) or (x==5):\n",
    "        print('  *   *')\n",
    "    else:\n",
    "        print('    *  ')\n",
    "    x=x+1"
   ]
  },
  {
   "cell_type": "code",
   "execution_count": 63,
   "id": "3ad74794",
   "metadata": {},
   "outputs": [
    {
     "name": "stdout",
     "output_type": "stream",
     "text": [
      "*       *\n",
      "  *   *\n",
      "    *\n",
      "    *\n",
      "    *\n"
     ]
    }
   ],
   "source": [
    "# Y\n",
    "\n",
    "y=1\n",
    "while y<=5:\n",
    "    if(y==1):\n",
    "        print('*       *')\n",
    "    elif(y==2):\n",
    "        print('  *   *')\n",
    "    else:\n",
    "        print('    *')\n",
    "    y=y+1"
   ]
  },
  {
   "cell_type": "code",
   "execution_count": 71,
   "id": "5523ad6f",
   "metadata": {},
   "outputs": [
    {
     "name": "stdout",
     "output_type": "stream",
     "text": [
      "* * * * *\n",
      "      *\n",
      "    *\n",
      "  *\n",
      "* * * * *\n"
     ]
    }
   ],
   "source": [
    "# Z\n",
    "\n",
    "z=1\n",
    "while z<=5:\n",
    "    if(z==2):\n",
    "        print('      *')\n",
    "    elif(z==3):\n",
    "        print('    *')\n",
    "    elif(z==4):\n",
    "        print('  *')\n",
    "    else:\n",
    "        print('* * * * *')\n",
    "    z=z+1"
   ]
  },
  {
   "cell_type": "code",
   "execution_count": null,
   "id": "fdf33537",
   "metadata": {},
   "outputs": [],
   "source": []
  }
 ],
 "metadata": {
  "kernelspec": {
   "display_name": "Python 3 (ipykernel)",
   "language": "python",
   "name": "python3"
  },
  "language_info": {
   "codemirror_mode": {
    "name": "ipython",
    "version": 3
   },
   "file_extension": ".py",
   "mimetype": "text/x-python",
   "name": "python",
   "nbconvert_exporter": "python",
   "pygments_lexer": "ipython3",
   "version": "3.11.3"
  }
 },
 "nbformat": 4,
 "nbformat_minor": 5
}
